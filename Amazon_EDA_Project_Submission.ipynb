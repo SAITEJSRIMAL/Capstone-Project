{
  "nbformat": 4,
  "nbformat_minor": 0,
  "metadata": {
    "colab": {
      "private_outputs": true,
      "provenance": [],
      "collapsed_sections": [
        "vncDsAP0Gaoa",
        "FJNUwmbgGyua",
        "w6K7xa23Elo4",
        "yQaldy8SH6Dl",
        "PH-0ReGfmX4f",
        "mDgbUHAGgjLW",
        "HhfV-JJviCcP",
        "Y3lxredqlCYt",
        "3RnN4peoiCZX",
        "x71ZqKXriCWQ",
        "7hBIi_osiCS2",
        "JlHwYmJAmNHm",
        "35m5QtbWiB9F",
        "PoPl-ycgm1ru",
        "H0kj-8xxnORC",
        "nA9Y7ga8ng1Z",
        "PBTbrJXOngz2",
        "u3PMJOP6ngxN",
        "dauF4eBmngu3",
        "uGdP6eVu1AEC",
        "kY7c6FBu66An",
        "vBp5UMGY_i6m",
        "pkzbeluFFkKY",
        "-KSkyNG9HfBk",
        "MSa1f5Uengrz",
        "0wOQAZs5pc--",
        "Gf2hImnBga6j",
        "KSlN3yHqYklG",
        "t6dVpIINYklI",
        "ijmpgYnKYklI",
        "-JiQyfWJYklI",
        "PIIx-8_IphqN",
        "t27r6nlMphqO",
        "r2jJGEOYphqO",
        "b0JNsNcRphqO",
        "4Of9eVA-YrdM",
        "iky9q4vBYrdO",
        "y-Ehk30pYrdP",
        "ddZAYToTYUVo",
        "jj7wYXLtphqO",
        "eZrbJ2SmphqO",
        "rFu4xreNphqO",
        "0e5_drBQcym1",
        "tj2AU8eTi7GX",
        "x-EpHcCOp1ci",
        "n3dbpmDWp1ck",
        "ZWILFDl5p1ck",
        "M7G43BXep1ck",
        "Ag9LCva-p1cl",
        "E6MkPsBcp1cl",
        "2cELzS2fp1cl",
        "q29F0dvdveiT",
        "EXh0U9oCveiU",
        "8QHFrqS0VjP2",
        "Fsz-yCIeQ4T3",
        "TylRIzE-Q4T5",
        "weu8Kh0oQ4T6",
        "K9JY-zlQDgYv",
        "bqLs91CASeJF",
        "ILCuubOZSshD",
        "rTDHH7l9SCHb",
        "hJ2a1n9TEjK6",
        "fPc4y0QRbqT5",
        "gCX9965dhzqZ",
        "gIfDvo9L0UH2"
      ],
      "include_colab_link": true
    },
    "kernelspec": {
      "name": "python3",
      "display_name": "Python 3"
    },
    "language_info": {
      "name": "python"
    }
  },
  "cells": [
    {
      "cell_type": "markdown",
      "metadata": {
        "id": "view-in-github",
        "colab_type": "text"
      },
      "source": [
        "<a href=\"https://colab.research.google.com/github/SAITEJSRIMAL/Capstone-Project/blob/main/Amazon_EDA_Project_Submission.ipynb\" target=\"_parent\"><img src=\"https://colab.research.google.com/assets/colab-badge.svg\" alt=\"Open In Colab\"/></a>"
      ]
    },
    {
      "cell_type": "markdown",
      "source": [
        "# **Project Name**    - Amazon Prime TV Shows and Movies\n",
        "\n"
      ],
      "metadata": {
        "id": "vncDsAP0Gaoa"
      }
    },
    {
      "cell_type": "markdown",
      "source": [
        "##### **Project Type**    - EDA\n",
        "##### **Contribution**    - Individual\n"
      ],
      "metadata": {
        "id": "beRrZCGUAJYm"
      }
    },
    {
      "cell_type": "markdown",
      "source": [
        "# **Project Summary -**"
      ],
      "metadata": {
        "id": "FJNUwmbgGyua"
      }
    },
    {
      "cell_type": "markdown",
      "source": [
        "In today's competitive streaming industry, platforms like Amazon Prime Video are constantly expanding their content libraries to cater to diverse audiences. With a growing number of shows and movies available on the platform, data-driven insights play a crucial role in understanding trends, audience preferences, and content strategy.\n",
        "\n",
        "This data set was created to list all shows available on Amazon Prime streaming, and analyze the data to find interesting facts. This dataset has data available in the United States.\n",
        "\n",
        "**Dataset Description** :\n",
        "\n",
        "This dataset has two files containing the titles (titles.csv) and the cast (credits.csv) for the title.\n",
        "\n",
        "This dataset contains +9k unique titles on Amazon Prime with 15 columns containing their information"
      ],
      "metadata": {
        "id": "F6v_1wHtG2nS"
      }
    },
    {
      "cell_type": "markdown",
      "source": [
        "# **GitHub Link -**"
      ],
      "metadata": {
        "id": "w6K7xa23Elo4"
      }
    },
    {
      "cell_type": "markdown",
      "source": [
        "Provide your GitHub Link here."
      ],
      "metadata": {
        "id": "h1o69JH3Eqqn"
      }
    },
    {
      "cell_type": "markdown",
      "source": [
        "# **Problem Statement**\n"
      ],
      "metadata": {
        "id": "yQaldy8SH6Dl"
      }
    },
    {
      "cell_type": "markdown",
      "source": [
        "**Problem Statement**\n",
        "\n",
        "This dataset was created to analyze all shows available on Amazon Prime Video, allowing us to extract valuable insights such as:\n",
        "\n",
        "* Content Diversity: What genres and categories dominate the platform?\n",
        "\n",
        "* Regional Availability: How does content distribution vary across different regions?\n",
        "\n",
        "* Trends Over Time: How has Amazon Prime’s content library evolved?\n",
        "\n",
        "* IMDb Ratings & Popularity: What are the highest-rated or most popular shows on the platform?"
      ],
      "metadata": {
        "id": "DpeJGUA3kjGy"
      }
    },
    {
      "cell_type": "markdown",
      "source": [
        "#### **Define Your Business Objective?**"
      ],
      "metadata": {
        "id": "PH-0ReGfmX4f"
      }
    },
    {
      "cell_type": "markdown",
      "source": [
        "By analyzing this dataset, businesses, content creators, and uncover key trends that influence subscription growth, user engagement, and content investment strategies in the streaming industry."
      ],
      "metadata": {
        "id": "PhDvGCAqmjP1"
      }
    },
    {
      "cell_type": "markdown",
      "source": [
        "# **General Guidelines** : -  "
      ],
      "metadata": {
        "id": "mDgbUHAGgjLW"
      }
    },
    {
      "cell_type": "markdown",
      "source": [
        "1.   Well-structured, formatted, and commented code is required.\n",
        "2.   Exception Handling, Production Grade Code & Deployment Ready Code will be a plus. Those students will be awarded some additional credits.\n",
        "     \n",
        "     The additional credits will have advantages over other students during Star Student selection.\n",
        "       \n",
        "             [ Note: - Deployment Ready Code is defined as, the whole .ipynb notebook should be executable in one go\n",
        "                       without a single error logged. ]\n",
        "\n",
        "3.   Each and every logic should have proper comments.\n",
        "4. You may add as many number of charts you want. Make Sure for each and every chart the following format should be answered.\n",
        "        \n",
        "\n",
        "```\n",
        "# Chart visualization code\n",
        "```\n",
        "            \n",
        "\n",
        "*   Why did you pick the specific chart?\n",
        "*   What is/are the insight(s) found from the chart?\n",
        "* Will the gained insights help creating a positive business impact?\n",
        "Are there any insights that lead to negative growth? Justify with specific reason.\n",
        "\n",
        "5. You have to create at least 20 logical & meaningful charts having important insights.\n",
        "\n",
        "\n",
        "[ Hints : - Do the Vizualization in  a structured way while following \"UBM\" Rule.\n",
        "\n",
        "U - Univariate Analysis,\n",
        "\n",
        "B - Bivariate Analysis (Numerical - Categorical, Numerical - Numerical, Categorical - Categorical)\n",
        "\n",
        "M - Multivariate Analysis\n",
        " ]\n",
        "\n",
        "\n",
        "\n"
      ],
      "metadata": {
        "id": "ZrxVaUj-hHfC"
      }
    },
    {
      "cell_type": "markdown",
      "source": [
        "# ***Let's Begin !***"
      ],
      "metadata": {
        "id": "O_i_v8NEhb9l"
      }
    },
    {
      "cell_type": "markdown",
      "source": [
        "## ***1. Know Your Data***"
      ],
      "metadata": {
        "id": "HhfV-JJviCcP"
      }
    },
    {
      "cell_type": "markdown",
      "source": [
        "### Import Libraries"
      ],
      "metadata": {
        "id": "Y3lxredqlCYt"
      }
    },
    {
      "cell_type": "code",
      "source": [
        "# Import Libraries"
      ],
      "metadata": {
        "id": "M8Vqi-pPk-HR"
      },
      "execution_count": null,
      "outputs": []
    },
    {
      "cell_type": "code",
      "source": [
        "import pandas as pd\n",
        "import numpy as np\n",
        "import matplotlib.pyplot as plt\n",
        "import seaborn as sns"
      ],
      "metadata": {
        "id": "ih4J5CtLu7Ws"
      },
      "execution_count": null,
      "outputs": []
    },
    {
      "cell_type": "markdown",
      "source": [
        "### Dataset Loading"
      ],
      "metadata": {
        "id": "3RnN4peoiCZX"
      }
    },
    {
      "cell_type": "code",
      "source": [
        "# Load Dataset"
      ],
      "metadata": {
        "id": "4CkvbW_SlZ_R"
      },
      "execution_count": null,
      "outputs": []
    },
    {
      "cell_type": "code",
      "source": [
        "titles = pd.read_csv('titles.csv')        # primary data\n",
        "credits = pd.read_csv('credits.csv')      # secondary data"
      ],
      "metadata": {
        "id": "J3o6MV7svY90"
      },
      "execution_count": null,
      "outputs": []
    },
    {
      "cell_type": "markdown",
      "source": [
        "### Dataset First View"
      ],
      "metadata": {
        "id": "x71ZqKXriCWQ"
      }
    },
    {
      "cell_type": "code",
      "source": [
        "# Dataset First Look"
      ],
      "metadata": {
        "id": "LWNFOSvLl09H"
      },
      "execution_count": null,
      "outputs": []
    },
    {
      "cell_type": "code",
      "source": [
        "pd.set_option('display.max_columns', None)     # shows all the columns"
      ],
      "metadata": {
        "id": "KJHsn7WBxRnc"
      },
      "execution_count": null,
      "outputs": []
    },
    {
      "cell_type": "code",
      "source": [
        "titles.head()       # primary data"
      ],
      "metadata": {
        "id": "Tqp11Lhkvumk"
      },
      "execution_count": null,
      "outputs": []
    },
    {
      "cell_type": "code",
      "source": [
        "credits.head()       # secondary data"
      ],
      "metadata": {
        "id": "XxE2d6clvp-T"
      },
      "execution_count": null,
      "outputs": []
    },
    {
      "cell_type": "markdown",
      "source": [
        "### Dataset Rows & Columns count"
      ],
      "metadata": {
        "id": "7hBIi_osiCS2"
      }
    },
    {
      "cell_type": "code",
      "source": [
        "# Dataset Rows & Columns count"
      ],
      "metadata": {
        "id": "Kllu7SJgmLij"
      },
      "execution_count": null,
      "outputs": []
    },
    {
      "cell_type": "code",
      "source": [
        "titles.shape     # Rows = 9871, Columns = 15"
      ],
      "metadata": {
        "id": "Qz9-ob31v5JT"
      },
      "execution_count": null,
      "outputs": []
    },
    {
      "cell_type": "code",
      "source": [
        "9871 - 8951"
      ],
      "metadata": {
        "id": "dSljBAlm96u3"
      },
      "execution_count": null,
      "outputs": []
    },
    {
      "cell_type": "code",
      "source": [
        "credits.shape     # Rows = 124235, Columns = 5"
      ],
      "metadata": {
        "id": "cRFs3jdnv79j"
      },
      "execution_count": null,
      "outputs": []
    },
    {
      "cell_type": "markdown",
      "source": [
        "### Dataset Information"
      ],
      "metadata": {
        "id": "JlHwYmJAmNHm"
      }
    },
    {
      "cell_type": "code",
      "source": [
        "# Dataset Info"
      ],
      "metadata": {
        "id": "e9hRXRi6meOf"
      },
      "execution_count": null,
      "outputs": []
    },
    {
      "cell_type": "code",
      "source": [
        "titles.info()   # It gives all the data like column names, rows, non- null values count, Datatype"
      ],
      "metadata": {
        "id": "3-Xcso_nx0DL"
      },
      "execution_count": null,
      "outputs": []
    },
    {
      "cell_type": "code",
      "source": [
        "credits.info()     # secondary data"
      ],
      "metadata": {
        "id": "o_wV_vY8x35z"
      },
      "execution_count": null,
      "outputs": []
    },
    {
      "cell_type": "markdown",
      "source": [
        "#### Duplicate Values"
      ],
      "metadata": {
        "id": "35m5QtbWiB9F"
      }
    },
    {
      "cell_type": "code",
      "source": [
        "# Dataset Duplicate Value Count"
      ],
      "metadata": {
        "id": "1sLdpKYkmox0"
      },
      "execution_count": null,
      "outputs": []
    },
    {
      "cell_type": "code",
      "source": [
        "titles.duplicated().sum()       # There are 3 duplicates values (whole rows) in the Secondary Data"
      ],
      "metadata": {
        "id": "gz2t4eQewA8b"
      },
      "execution_count": null,
      "outputs": []
    },
    {
      "cell_type": "code",
      "source": [
        "credits.duplicated().sum()      # There are 56 duplicates values (whole rows) in the Primary Data"
      ],
      "metadata": {
        "id": "4tecchXEwLkD"
      },
      "execution_count": null,
      "outputs": []
    },
    {
      "cell_type": "markdown",
      "source": [
        "#### Missing Values/Null Values"
      ],
      "metadata": {
        "id": "PoPl-ycgm1ru"
      }
    },
    {
      "cell_type": "code",
      "source": [
        "# Missing Values/Null Values Count"
      ],
      "metadata": {
        "id": "GgHWkxvamxVg"
      },
      "execution_count": null,
      "outputs": []
    },
    {
      "cell_type": "code",
      "source": [
        "titles.isnull().sum()"
      ],
      "metadata": {
        "id": "a0Ho18YIwSC8"
      },
      "execution_count": null,
      "outputs": []
    },
    {
      "cell_type": "code",
      "source": [
        "(titles.isnull().sum() * 100 / len(titles)).round(2)   # round 2 = after decimal(.) --> Only 2 numbers"
      ],
      "metadata": {
        "id": "Y9yxX6wiwYLK"
      },
      "execution_count": null,
      "outputs": []
    },
    {
      "cell_type": "code",
      "source": [
        "(titles.isna().mean()*100).round(2)      # code 3"
      ],
      "metadata": {
        "id": "TrCn-iow_WzS"
      },
      "execution_count": null,
      "outputs": []
    },
    {
      "cell_type": "code",
      "source": [
        "credits.isnull().sum()"
      ],
      "metadata": {
        "id": "tXI8Fm2fyf27"
      },
      "execution_count": null,
      "outputs": []
    },
    {
      "cell_type": "code",
      "source": [
        "(credits.isnull().sum() * 100 / len(credits)).round(2)   # round 2 = after decimal(.) --> Only 2 numbers"
      ],
      "metadata": {
        "id": "1adRO_B2zB0D"
      },
      "execution_count": null,
      "outputs": []
    },
    {
      "cell_type": "code",
      "source": [
        "# Visualizing the missing values"
      ],
      "metadata": {
        "id": "3q5wnI3om9sJ"
      },
      "execution_count": null,
      "outputs": []
    },
    {
      "cell_type": "code",
      "source": [
        "plt.figure()         # Primary data\n",
        "sns.heatmap(titles.isnull(), cbar=False, cmap='viridis')\n",
        "plt.title('Missing Values Heatmap For Titles')\n",
        "plt.show()"
      ],
      "metadata": {
        "id": "3get0XIVzU5O"
      },
      "execution_count": null,
      "outputs": []
    },
    {
      "cell_type": "code",
      "source": [
        "# Visualizing missing values as a heatmap\n",
        "\n",
        "plt.figure()       # secondary data\n",
        "sns.heatmap(credits.isnull(), cbar=False, cmap='viridis')\n",
        "plt.title('Missing Values Heatmap For Credits')\n",
        "plt.show()"
      ],
      "metadata": {
        "id": "UkW4CDhizfbj"
      },
      "execution_count": null,
      "outputs": []
    },
    {
      "cell_type": "markdown",
      "source": [
        "### What did you know about your dataset?"
      ],
      "metadata": {
        "id": "H0kj-8xxnORC"
      }
    },
    {
      "cell_type": "markdown",
      "source": [
        "**There are 2 DataFrames :**\n",
        "\n",
        "**1. titles**\n",
        "\n",
        "**2. credits**\n",
        "\n",
        "**The 'titles' table holds main metadata about each show or movie. (Primary Data)**\n",
        "\n",
        "**The credits table cast and crew information linked to each title. (Secondary Data)**\n",
        "\n",
        "**And later I have to merge this 2 dataframes throgh a Primary key : Id for the Insights like : Content Analysis, IMDb & TMDB Insights, etc**\n",
        "\n",
        "**The 'titles' file has : Rows = 9871,  Columns = 15 and found 3 Duplicates Values from the file**\n",
        "\n",
        "**The 'credits' file has : Rows = 124235, Columns = 5 and found 56 Duplicates Values from the file**\n"
      ],
      "metadata": {
        "id": "lXRNulttzw3U"
      }
    },
    {
      "cell_type": "markdown",
      "source": [
        "## ***2. Understanding Your Variables***"
      ],
      "metadata": {
        "id": "nA9Y7ga8ng1Z"
      }
    },
    {
      "cell_type": "code",
      "source": [
        "# Dataset Columns"
      ],
      "metadata": {
        "id": "j7xfkqrt5Ag5"
      },
      "execution_count": null,
      "outputs": []
    },
    {
      "cell_type": "code",
      "source": [
        "titles.columns"
      ],
      "metadata": {
        "id": "beNjPtOvz2PC"
      },
      "execution_count": null,
      "outputs": []
    },
    {
      "cell_type": "code",
      "source": [
        "credits.columns"
      ],
      "metadata": {
        "id": "Wzh3ss6-z6Q1"
      },
      "execution_count": null,
      "outputs": []
    },
    {
      "cell_type": "code",
      "source": [
        "# Dataset Describe"
      ],
      "metadata": {
        "id": "DnOaZdaE5Q5t"
      },
      "execution_count": null,
      "outputs": []
    },
    {
      "cell_type": "code",
      "source": [
        "# Dataset Describe\n",
        "titles.describe(include = 'all')    # It will give the data for all the columns"
      ],
      "metadata": {
        "id": "8rkqwfMNz-1f"
      },
      "execution_count": null,
      "outputs": []
    },
    {
      "cell_type": "code",
      "source": [
        "titles.describe(include = 'object')    # specifically for datatypes == Object"
      ],
      "metadata": {
        "id": "JeizXAHw0VRP"
      },
      "execution_count": null,
      "outputs": []
    },
    {
      "cell_type": "code",
      "source": [
        "credits.describe(include = 'all')"
      ],
      "metadata": {
        "id": "ONRntv_30DEb"
      },
      "execution_count": null,
      "outputs": []
    },
    {
      "cell_type": "code",
      "source": [
        "credits.describe(include = 'object')    # specifically for datatypes == Object"
      ],
      "metadata": {
        "id": "ZMdcmLEL0e8b"
      },
      "execution_count": null,
      "outputs": []
    },
    {
      "cell_type": "markdown",
      "source": [
        "### Variables Description"
      ],
      "metadata": {
        "id": "PBTbrJXOngz2"
      }
    },
    {
      "cell_type": "markdown",
      "source": [
        "**titles** : Dataset\n",
        "\n",
        "* **id**: The title ID on JustWatch.\n",
        "\n",
        "* **title**: The name of the title.\n",
        "\n",
        "* **show_type**: TV show or movie.\n",
        "\n",
        "* **description:** A brief description.\n",
        "\n",
        "* **release_year**: The release year.\n",
        "\n",
        "* **age_certification**: The age certification.\n",
        "\n",
        "* **runtime** : The length of the episode (SHOW) or movie.\n",
        "\n",
        "* **genres** : A list of genres.\n",
        "\n",
        "* **production_countries** : A list of countries that produced the title.\n",
        "\n",
        "* **seasons** : Number of seasons if it's a SHOW.\n",
        "\n",
        "* **imdb_id** : The title ID on IMDB.\n",
        "\n",
        "* **imdb_score** : Score on IMDB.\n",
        "\n",
        "* **imdb_votes** : Votes on IMDB.\n",
        "\n",
        "* **tmdb_popularity** : Popularity on TMDB.\n",
        "\n",
        "* **tmdb_score** : Score on TMDB.\n",
        "\n",
        "\n",
        "\n",
        "\n",
        "**credits**: Dataset\n",
        "\n",
        "**person_ID** : The person ID on JustWatch.\n",
        "\n",
        "**id** : The title ID on JustWatch.\n",
        "\n",
        "**name**  The actor or director's name.\n",
        "\n",
        "**character_name** : The character name.\n",
        "\n",
        "**role** : ACTOR or DIRECTOR."
      ],
      "metadata": {
        "id": "aJV4KIxSnxay"
      }
    },
    {
      "cell_type": "markdown",
      "source": [
        "### Check Unique Values for each variable."
      ],
      "metadata": {
        "id": "u3PMJOP6ngxN"
      }
    },
    {
      "cell_type": "code",
      "source": [
        "# Check Unique Values for each variable."
      ],
      "metadata": {
        "id": "zms12Yq5n-jE"
      },
      "execution_count": null,
      "outputs": []
    },
    {
      "cell_type": "code",
      "source": [
        "# Check Unique Values for each variable.\n",
        "for i in titles.columns.tolist():\n",
        "  print(\"No. of unique values in \",i,\"is\",titles[i].nunique(),\".\")     # using for loop for unique  values in all the columns of (primnary data (title))"
      ],
      "metadata": {
        "id": "kswc_1ue0tGL"
      },
      "execution_count": null,
      "outputs": []
    },
    {
      "cell_type": "code",
      "source": [
        "# Check Unique Values for each variable.\n",
        "for i in credits.columns.tolist():\n",
        "  print(\"No. of unique values in \",i,\"is\",credits[i].nunique(),\".\")     # using for loop for unique  values in all the columns of (secondary data (credits))"
      ],
      "metadata": {
        "id": "Xqf8ec4i0x1D"
      },
      "execution_count": null,
      "outputs": []
    },
    {
      "cell_type": "markdown",
      "source": [
        "## 3. ***Data Wrangling***"
      ],
      "metadata": {
        "id": "dauF4eBmngu3"
      }
    },
    {
      "cell_type": "markdown",
      "source": [
        "### Data Wrangling Code"
      ],
      "metadata": {
        "id": "bKJF3rekwFvQ"
      }
    },
    {
      "cell_type": "code",
      "source": [
        "# Write your code to make your dataset analysis ready."
      ],
      "metadata": {
        "id": "wk-9a2fpoLcV"
      },
      "execution_count": null,
      "outputs": []
    },
    {
      "cell_type": "markdown",
      "source": [
        "#### Dropping the duplicates"
      ],
      "metadata": {
        "id": "uGdP6eVu1AEC"
      }
    },
    {
      "cell_type": "code",
      "source": [
        "titles.drop_duplicates(inplace = True)     # dropping the duplicates (prinary data)"
      ],
      "metadata": {
        "id": "nStOnwrb0_SR"
      },
      "execution_count": null,
      "outputs": []
    },
    {
      "cell_type": "code",
      "source": [
        "titles = titles.reset_index(drop = True)     # after dropping the data the index values will be changed and resetting the data"
      ],
      "metadata": {
        "id": "6mFOrAKZ0_Iz"
      },
      "execution_count": null,
      "outputs": []
    },
    {
      "cell_type": "code",
      "source": [
        "titles.shape       # after drooping the duplicates,  rows = 9868, columns = 15"
      ],
      "metadata": {
        "id": "qpKNV-_e2FEs"
      },
      "execution_count": null,
      "outputs": []
    },
    {
      "cell_type": "code",
      "source": [
        "credits.drop_duplicates(inplace = True)     # dropping the duplicates (prinary data)"
      ],
      "metadata": {
        "id": "KD3PcoOL0_Ai"
      },
      "execution_count": null,
      "outputs": []
    },
    {
      "cell_type": "code",
      "source": [
        "credits = credits.reset_index(drop = True)    # after dropping the data the index values will be changed and resetting the data"
      ],
      "metadata": {
        "id": "gFfganUM0-1P"
      },
      "execution_count": null,
      "outputs": []
    },
    {
      "cell_type": "code",
      "source": [
        "credits.shape       # after drooping the duplicates,  rows = 124179, columns = 15"
      ],
      "metadata": {
        "id": "0RdT_fVp0-rF"
      },
      "execution_count": null,
      "outputs": []
    },
    {
      "cell_type": "code",
      "source": [
        "titles.info()"
      ],
      "metadata": {
        "id": "t4ukNqAJ0-h_"
      },
      "execution_count": null,
      "outputs": []
    },
    {
      "cell_type": "code",
      "source": [
        "(titles.isnull().sum() * 100 / len(titles)).round(2)"
      ],
      "metadata": {
        "id": "8Z2L9PAp3FeZ"
      },
      "execution_count": null,
      "outputs": []
    },
    {
      "cell_type": "code",
      "source": [
        "titles.drop('seasons', axis = 1, inplace = True)    # dropping the columns 'season' because it has high percent of missing values ----> Primart data  (86.25)"
      ],
      "metadata": {
        "id": "sW11hwfE3FUC"
      },
      "execution_count": null,
      "outputs": []
    },
    {
      "cell_type": "code",
      "source": [
        "titles.head()"
      ],
      "metadata": {
        "id": "kGL1hM4_3tDN"
      },
      "execution_count": null,
      "outputs": []
    },
    {
      "cell_type": "code",
      "source": [
        "titles.info()"
      ],
      "metadata": {
        "id": "jdcavuok6Q2g"
      },
      "execution_count": null,
      "outputs": []
    },
    {
      "cell_type": "code",
      "source": [
        "(titles.isnull().sum() * 100 / len(titles)).round(2)"
      ],
      "metadata": {
        "id": "CkYSEmbZ3s3H"
      },
      "execution_count": null,
      "outputs": []
    },
    {
      "cell_type": "markdown",
      "source": [
        "#### Filling the NAN Values"
      ],
      "metadata": {
        "id": "kY7c6FBu66An"
      }
    },
    {
      "cell_type": "code",
      "source": [
        "titles['description_new'] = titles['description'].fillna('Unknown')  # Created a new column and replaced the NaN with 'Unknown' (all the data get stored in new column)"
      ],
      "metadata": {
        "id": "kfFeHRF8245I"
      },
      "execution_count": null,
      "outputs": []
    },
    {
      "cell_type": "code",
      "source": [
        "titles.head()"
      ],
      "metadata": {
        "id": "GScMtjGc7Zjj"
      },
      "execution_count": null,
      "outputs": []
    },
    {
      "cell_type": "code",
      "source": [
        "titles['age_certification_new'] = titles['age_certification'].fillna('Unknown')\n",
        "# Created new column and Replaced Nan Values with 'Unknown'"
      ],
      "metadata": {
        "id": "uyoMWNa724rg"
      },
      "execution_count": null,
      "outputs": []
    },
    {
      "cell_type": "code",
      "source": [
        "titles.head()"
      ],
      "metadata": {
        "id": "DJHXZLEs7fIX"
      },
      "execution_count": null,
      "outputs": []
    },
    {
      "cell_type": "code",
      "source": [
        "# Calculate the mean of the tmdb_score column\n",
        "imdb_score_median = titles['imdb_score'].median()\n",
        "\n",
        "# Fill missing values in tmdb_score_new with the calculated mean\n",
        "titles['imdb_score_new'] = titles['imdb_score'].fillna(imdb_score_median)"
      ],
      "metadata": {
        "id": "m_odTDq424hT"
      },
      "execution_count": null,
      "outputs": []
    },
    {
      "cell_type": "code",
      "source": [
        "imdb_score_median"
      ],
      "metadata": {
        "id": "KY2fvn9-24Wp"
      },
      "execution_count": null,
      "outputs": []
    },
    {
      "cell_type": "code",
      "source": [
        "titles.head()"
      ],
      "metadata": {
        "id": "bR1waJMk8Ps-"
      },
      "execution_count": null,
      "outputs": []
    },
    {
      "cell_type": "code",
      "source": [
        "# Calculate the mean of the tmdb_score column\n",
        "imdb_votes_median = titles['imdb_votes'].median()\n",
        "\n",
        "# Fill missing values in tmdb_score_new with the calculated mean\n",
        "titles['imdb_votes_new'] = titles['imdb_votes'].fillna(imdb_votes_median)"
      ],
      "metadata": {
        "id": "pbPoZrzf23y3"
      },
      "execution_count": null,
      "outputs": []
    },
    {
      "cell_type": "code",
      "source": [
        "imdb_votes_median    # median"
      ],
      "metadata": {
        "id": "ZYB0FT1s23oR"
      },
      "execution_count": null,
      "outputs": []
    },
    {
      "cell_type": "code",
      "source": [
        "titles.head()"
      ],
      "metadata": {
        "id": "1E2dphH68TF8"
      },
      "execution_count": null,
      "outputs": []
    },
    {
      "cell_type": "code",
      "source": [
        "# Calculate the mean of the tmdb_score column\n",
        "tmdb_popularity_median = titles['tmdb_popularity'].median()\n",
        "\n",
        "# Fill missing values in tmdb_score_new with the calculated mean\n",
        "titles['tmdb_popularity_new'] = titles['tmdb_score'].fillna(tmdb_popularity_median)"
      ],
      "metadata": {
        "id": "txrDX8Yz0-N-"
      },
      "execution_count": null,
      "outputs": []
    },
    {
      "cell_type": "code",
      "source": [
        "tmdb_popularity_median    # median"
      ],
      "metadata": {
        "id": "h43q56pZ8Lfl"
      },
      "execution_count": null,
      "outputs": []
    },
    {
      "cell_type": "code",
      "source": [
        "titles.head()"
      ],
      "metadata": {
        "id": "KHnpRfR68UGL"
      },
      "execution_count": null,
      "outputs": []
    },
    {
      "cell_type": "code",
      "source": [
        "# Calculate the mean of the tmdb_score column\n",
        "tmdb_score_median = titles['tmdb_score'].median()  # round = after decimal only 2 numbers\n",
        "\n",
        "# Fill missing values in tmdb_score_new with the calculated mean\n",
        "titles['tmdb_score_new'] = titles['tmdb_score'].fillna(tmdb_score_median)"
      ],
      "metadata": {
        "id": "nrG6NBQ28LMB"
      },
      "execution_count": null,
      "outputs": []
    },
    {
      "cell_type": "code",
      "source": [
        "tmdb_score_median # Median of the tmdb socre"
      ],
      "metadata": {
        "id": "wemVDFDW8K5C"
      },
      "execution_count": null,
      "outputs": []
    },
    {
      "cell_type": "code",
      "source": [
        "titles.head()"
      ],
      "metadata": {
        "id": "YMzbQF6n8Kj7"
      },
      "execution_count": null,
      "outputs": []
    },
    {
      "cell_type": "code",
      "source": [
        "(titles.isnull().sum() * 100 / len(titles)).round(2)"
      ],
      "metadata": {
        "id": "M4s6AOXR8KVK"
      },
      "execution_count": null,
      "outputs": []
    },
    {
      "cell_type": "code",
      "source": [
        "# Here not filled the column 'imdb_id' , beacause we can drop the column and it is not useful for analysis"
      ],
      "metadata": {
        "id": "HbV-m6En0-B7"
      },
      "execution_count": null,
      "outputs": []
    },
    {
      "cell_type": "code",
      "source": [
        "# Secondary Data filling NAN"
      ],
      "metadata": {
        "id": "LDxtcwQR9vmS"
      },
      "execution_count": null,
      "outputs": []
    },
    {
      "cell_type": "code",
      "source": [
        "(credits.isnull().sum() * 100 / len(credits)).round(2)"
      ],
      "metadata": {
        "id": "y7wu-Qal99Ip"
      },
      "execution_count": null,
      "outputs": []
    },
    {
      "cell_type": "code",
      "source": [
        "credits.info()"
      ],
      "metadata": {
        "id": "LuMhuiCI0-Wq"
      },
      "execution_count": null,
      "outputs": []
    },
    {
      "cell_type": "code",
      "source": [
        "credits['character_new'] = credits['character'].fillna('Unknown')\n",
        "# Created new column and Replaced Nan Values with 'Unknown'"
      ],
      "metadata": {
        "id": "4L7mMDdk9vFy"
      },
      "execution_count": null,
      "outputs": []
    },
    {
      "cell_type": "code",
      "source": [
        "credits.head()"
      ],
      "metadata": {
        "id": "pOWIJOSy-zgN"
      },
      "execution_count": null,
      "outputs": []
    },
    {
      "cell_type": "markdown",
      "source": [
        "#### Merging the Data"
      ],
      "metadata": {
        "id": "vBp5UMGY_i6m"
      }
    },
    {
      "cell_type": "code",
      "source": [
        "final_data = pd.merge(titles, credits, on = 'id', how = 'left')    # Using the left join to merge the 2 data sets"
      ],
      "metadata": {
        "id": "xXhKhEYO-zKE"
      },
      "execution_count": null,
      "outputs": []
    },
    {
      "cell_type": "code",
      "source": [
        "final_data.shape    # rows = 125186, columns = 25"
      ],
      "metadata": {
        "id": "fJrUJ38s-y1C"
      },
      "execution_count": null,
      "outputs": []
    },
    {
      "cell_type": "code",
      "source": [
        "(final_data.isnull().sum() / len(final_data) * 100).round(2)"
      ],
      "metadata": {
        "id": "aTMqv7bySZby"
      },
      "execution_count": null,
      "outputs": []
    },
    {
      "cell_type": "code",
      "source": [
        "final_data.drop(['description', 'age_certification', 'imdb_id', 'imdb_score', 'imdb_votes','tmdb_popularity', 'tmdb_score', 'character'], axis = 1, inplace = True)"
      ],
      "metadata": {
        "id": "53xTuNUjR4SE"
      },
      "execution_count": null,
      "outputs": []
    },
    {
      "cell_type": "code",
      "source": [
        "(final_data.isnull().sum() / len(final_data) * 100).round(2)"
      ],
      "metadata": {
        "id": "0wS9f4B9-ylj"
      },
      "execution_count": null,
      "outputs": []
    },
    {
      "cell_type": "code",
      "source": [
        "final_data = final_data.rename({'description_new' : 'description', 'age_certification_new' : 'age_certification', 'imdb_score_new' : 'imdb_score', 'imdb_votes_new' : 'imdb_votes',\n",
        "              'tmdb_popularity_new' : 'tmdb_popularity', 'tmdb_score_new' : 'tmdb_score', 'character_new' : 'character'}, axis = 1)"
      ],
      "metadata": {
        "id": "IbeWZZU3-yU8"
      },
      "execution_count": null,
      "outputs": []
    },
    {
      "cell_type": "code",
      "source": [
        "final_data.info()"
      ],
      "metadata": {
        "id": "88hfYUip-yBf"
      },
      "execution_count": null,
      "outputs": []
    },
    {
      "cell_type": "code",
      "source": [
        "final_data.head()"
      ],
      "metadata": {
        "id": "IIEuwBiYVTiu"
      },
      "execution_count": null,
      "outputs": []
    },
    {
      "cell_type": "code",
      "source": [
        "(final_data.isnull().sum() / len(final_data) * 100).round(2)"
      ],
      "metadata": {
        "id": "TbYN5me2WDiE"
      },
      "execution_count": null,
      "outputs": []
    },
    {
      "cell_type": "code",
      "source": [
        "final_data.drop(['person_id'], axis = 1)"
      ],
      "metadata": {
        "id": "Ox5luWeD-xyt"
      },
      "execution_count": null,
      "outputs": []
    },
    {
      "cell_type": "code",
      "source": [
        "final_data['person_id'].value_counts().head(50)"
      ],
      "metadata": {
        "id": "qQuPHOs6dldP"
      },
      "execution_count": null,
      "outputs": []
    },
    {
      "cell_type": "code",
      "source": [
        "final_data.isnull().sum()"
      ],
      "metadata": {
        "id": "87sZWyVzd9Uw"
      },
      "execution_count": null,
      "outputs": []
    },
    {
      "cell_type": "code",
      "source": [
        "final_data.shape"
      ],
      "metadata": {
        "id": "qECU63B0iKhE"
      },
      "execution_count": null,
      "outputs": []
    },
    {
      "cell_type": "code",
      "source": [
        "final_data.head()"
      ],
      "metadata": {
        "id": "svUGpucQAYzu"
      },
      "execution_count": null,
      "outputs": []
    },
    {
      "cell_type": "code",
      "source": [
        "final_data[final_data['person_id'].isnull()].head(25)"
      ],
      "metadata": {
        "id": "WMykLmQg4jSb"
      },
      "execution_count": null,
      "outputs": []
    },
    {
      "cell_type": "code",
      "source": [
        "final_data[['person_id', 'name', 'role', 'character']].isnull().sum()"
      ],
      "metadata": {
        "id": "BnfuyvbHBp_U"
      },
      "execution_count": null,
      "outputs": []
    },
    {
      "cell_type": "code",
      "source": [
        "final_data.info()"
      ],
      "metadata": {
        "id": "loW2LkcBDtFT"
      },
      "execution_count": null,
      "outputs": []
    },
    {
      "cell_type": "code",
      "source": [
        "final_data.shape"
      ],
      "metadata": {
        "id": "WyvPcOli4jH-"
      },
      "execution_count": null,
      "outputs": []
    },
    {
      "cell_type": "code",
      "source": [
        "final_data.drop(['person_id'], axis=1, inplace=True)"
      ],
      "metadata": {
        "id": "GdAjjepL4jBg"
      },
      "execution_count": null,
      "outputs": []
    },
    {
      "cell_type": "code",
      "source": [
        "# Fill missing cast/crew info\n",
        "final_data[['name', 'role', 'character']] = (\n",
        "    final_data[['name', 'role', 'character']].fillna('Unknown'))"
      ],
      "metadata": {
        "id": "LHcBQwyMFAhC"
      },
      "execution_count": null,
      "outputs": []
    },
    {
      "cell_type": "code",
      "source": [
        "# Confirm no NaNs remain\n",
        "final_data.isnull().sum()"
      ],
      "metadata": {
        "id": "TdHMJf6nFAPK"
      },
      "execution_count": null,
      "outputs": []
    },
    {
      "cell_type": "markdown",
      "source": [
        "#### Finding the Outlies"
      ],
      "metadata": {
        "id": "pkzbeluFFkKY"
      }
    },
    {
      "cell_type": "code",
      "source": [
        "final_data.describe()"
      ],
      "metadata": {
        "id": "M0RjbwwME_-x"
      },
      "execution_count": null,
      "outputs": []
    },
    {
      "cell_type": "code",
      "source": [
        "outliers_data = final_data[['runtime', 'imdb_score' , 'imdb_votes', 'tmdb_popularity', 'tmdb_score' ]]"
      ],
      "metadata": {
        "id": "Ww6sLuZTGoS7"
      },
      "execution_count": null,
      "outputs": []
    },
    {
      "cell_type": "code",
      "source": [
        "outliers_data.head()"
      ],
      "metadata": {
        "id": "bPkP6NveGoE0"
      },
      "execution_count": null,
      "outputs": []
    },
    {
      "cell_type": "code",
      "source": [
        "outliers_data.shape"
      ],
      "metadata": {
        "id": "znSYQy1vGn1G"
      },
      "execution_count": null,
      "outputs": []
    },
    {
      "cell_type": "code",
      "execution_count": null,
      "metadata": {
        "id": "c_CRUOkRz21I"
      },
      "outputs": [],
      "source": [
        "# Define a function to find outliers in one column\n",
        "def detect_outliers_iqr(df, column):\n",
        "    # Q1 = 25th percentile, Q3 = 75th percentile\n",
        "    Q1 = df[column].quantile(0.25)\n",
        "    Q3 = df[column].quantile(0.75)\n",
        "\n",
        "    # IQR = Difference between Q3 and Q1\n",
        "    IQR = Q3 - Q1\n",
        "\n",
        "    # Define lower and upper limits for normal data\n",
        "    lower_limit = Q1 - 1.5 * IQR\n",
        "    upper_limit = Q3 + 1.5 * IQR\n",
        "\n",
        "    # Identify outliers — values less than lower or greater than upper limit\n",
        "    outliers = df[(df[column] < lower_limit) | (df[column] > upper_limit)]\n",
        "\n",
        "    # Print the count and range details\n",
        "    print(f\"\\n {column.upper()} -> Outliers detected: {outliers.shape[0]}\")\n",
        "    print(f\"   Lower limit: {lower_limit:.2f}, Upper limit: {upper_limit:.2f}\")\n",
        "\n",
        "    # Return the rows that are outliers\n",
        "    return outliers\n",
        "\n",
        "\n",
        "\n",
        "# Run for each numeric column\n",
        "for col in outliers_data:      # stored outliers in a variable\n",
        "    detect_outliers_iqr(final_data, col)"
      ]
    },
    {
      "cell_type": "code",
      "execution_count": null,
      "metadata": {
        "id": "mzwmqUITWDwe"
      },
      "outputs": [],
      "source": [
        "# Define outlier ranges for each numeric column\n",
        "outlier_ranges = {\n",
        "    'runtime': (44, 148),\n",
        "    'imdb_score': (3.05, 9.05),\n",
        "    'imdb_votes': (-8877, 15355),\n",
        "    'tmdb_popularity': (-8.47, 19.12),\n",
        "    'tmdb_score': (-8.47, 19.12)\n",
        "}\n",
        "\n",
        "# Create outlier label columns for all numeric features\n",
        "for col, (low, high) in outlier_ranges.items():\n",
        "    final_data[f'{col}_outlier_label'] = final_data[col].apply(\n",
        "        lambda x: 'Outlier' if (x < low or x > high) else 'Not Outlier'\n",
        "    )\n",
        "\n",
        "# Preview results\n",
        "final_data[[col for col in final_data.columns if 'outlier_label' in col]].head()"
      ]
    },
    {
      "cell_type": "code",
      "source": [
        "final_data.info()"
      ],
      "metadata": {
        "id": "D9la-atLGnor"
      },
      "execution_count": null,
      "outputs": []
    },
    {
      "cell_type": "markdown",
      "source": [
        "#### Analysis"
      ],
      "metadata": {
        "id": "-KSkyNG9HfBk"
      }
    },
    {
      "cell_type": "code",
      "execution_count": null,
      "metadata": {
        "id": "z2usztuvlmCt"
      },
      "outputs": [],
      "source": [
        "# ------------------------------------------------------------\n",
        "# 🧹 Create a dataset with only NON-OUTLIER rows\n",
        "# ------------------------------------------------------------\n",
        "\n",
        "# We'll consider a row as \"non-outlier\" only if all numeric columns are 'Not Outlier'\n",
        "final_non_outliers_data = final_data[\n",
        "    (final_data['runtime_outlier_label'] == 'Not Outlier') &\n",
        "    (final_data['imdb_score_outlier_label'] == 'Not Outlier') &\n",
        "    (final_data['imdb_votes_outlier_label'] == 'Not Outlier') &\n",
        "    (final_data['tmdb_popularity_outlier_label'] == 'Not Outlier') &\n",
        "    (final_data['tmdb_score_outlier_label'] == 'Not Outlier')\n",
        "]\n",
        "\n",
        "print( \"Non-outlier rows kept for analysis:\", final_non_outliers_data.shape[0])\n",
        "print(\"Outlier rows removed:\", final_data.shape[0] - final_non_outliers_data.shape[0])\n",
        "\n",
        "# View a few rows\n",
        "final_non_outliers_data.head().reset_index(drop=True)\n"
      ]
    },
    {
      "cell_type": "code",
      "source": [
        "final_non_outliers_data.info()"
      ],
      "metadata": {
        "id": "kuRb-4CFIZC5"
      },
      "execution_count": null,
      "outputs": []
    },
    {
      "cell_type": "code",
      "source": [
        "final_non_outliers_data = final_non_outliers_data.drop(['runtime_outlier_label', 'imdb_score_outlier_label', 'imdb_votes_outlier_label', 'tmdb_popularity_outlier_label',\n",
        "                        'tmdb_score_outlier_label'], axis = 1).reset_index(drop = True)"
      ],
      "metadata": {
        "id": "76EtTUdaIYxE"
      },
      "execution_count": null,
      "outputs": []
    },
    {
      "cell_type": "code",
      "source": [
        "final_non_outliers_data.head()"
      ],
      "metadata": {
        "id": "-kQVLgxPIYhB"
      },
      "execution_count": null,
      "outputs": []
    },
    {
      "cell_type": "code",
      "source": [
        "final_non_outliers_data.shape"
      ],
      "metadata": {
        "id": "c1zDmoCqcKv-"
      },
      "execution_count": null,
      "outputs": []
    },
    {
      "cell_type": "code",
      "source": [
        "final_non_outliers_data.isnull().sum()"
      ],
      "metadata": {
        "id": "SPeFxqVEcKmP"
      },
      "execution_count": null,
      "outputs": []
    },
    {
      "cell_type": "code",
      "source": [
        "final_non_outliers_data.head()"
      ],
      "metadata": {
        "id": "3YBdnmi8Ya1o"
      },
      "execution_count": null,
      "outputs": []
    },
    {
      "cell_type": "code",
      "source": [
        "final_non_outliers_data.duplicated().sum()   # checking for the duplicated values"
      ],
      "metadata": {
        "id": "RI6faLGvYapX"
      },
      "execution_count": null,
      "outputs": []
    },
    {
      "cell_type": "code",
      "source": [
        "final_non_outliers_data = final_non_outliers_data.drop_duplicates().reset_index(drop = True)"
      ],
      "metadata": {
        "id": "6C8f16kGaCUU"
      },
      "execution_count": null,
      "outputs": []
    },
    {
      "cell_type": "code",
      "source": [
        "final_non_outliers_data.duplicated().sum()"
      ],
      "metadata": {
        "id": "0cyBT546Zqzo"
      },
      "execution_count": null,
      "outputs": []
    },
    {
      "cell_type": "code",
      "source": [
        "final_non_outliers_data[final_non_outliers_data.duplicated(subset = ['id', 'title'])].shape     # checking the duplicates in the colunm of id, title rows"
      ],
      "metadata": {
        "id": "GU0ujIICZqpW"
      },
      "execution_count": null,
      "outputs": []
    },
    {
      "cell_type": "code",
      "source": [
        "final_non_outliers_data = final_non_outliers_data.drop_duplicates(subset = ['id', 'title'], keep = 'last').reset_index(drop = True)\n",
        "# droped the duplicates of id, title and kept latest entry"
      ],
      "metadata": {
        "id": "P-jDEcWXYaZu"
      },
      "execution_count": null,
      "outputs": []
    },
    {
      "cell_type": "code",
      "source": [
        "final_non_outliers_data.shape"
      ],
      "metadata": {
        "id": "S8uyhwqHYaOy"
      },
      "execution_count": null,
      "outputs": []
    },
    {
      "cell_type": "code",
      "source": [
        "final_non_outliers_data.head()"
      ],
      "metadata": {
        "id": "BLnnosy4GnaC"
      },
      "execution_count": null,
      "outputs": []
    },
    {
      "cell_type": "code",
      "source": [
        "final_non_outliers_data[final_non_outliers_data['production_countries'] == '[]'].head()"
      ],
      "metadata": {
        "id": "EXMJ2K9EbeUd"
      },
      "execution_count": null,
      "outputs": []
    },
    {
      "cell_type": "code",
      "source": [
        "final_non_outliers_data[final_non_outliers_data['production_countries'] == '[]'].shape"
      ],
      "metadata": {
        "id": "4EzhRIHjbeIP"
      },
      "execution_count": null,
      "outputs": []
    },
    {
      "cell_type": "code",
      "source": [
        "final_non_outliers_data[final_non_outliers_data['genres'] == '[]'].head()"
      ],
      "metadata": {
        "id": "ZZbOv6Fzbd5K"
      },
      "execution_count": null,
      "outputs": []
    },
    {
      "cell_type": "code",
      "source": [
        "final_non_outliers_data[final_non_outliers_data['genres'] == '[]'].shape"
      ],
      "metadata": {
        "id": "ep5K03nKbdso"
      },
      "execution_count": null,
      "outputs": []
    },
    {
      "cell_type": "code",
      "source": [
        "final_non_outliers_data['production_countries'] = final_non_outliers_data['production_countries'].replace({'[]' : 'Unknown'})"
      ],
      "metadata": {
        "id": "LHBYrqfUbdTw"
      },
      "execution_count": null,
      "outputs": []
    },
    {
      "cell_type": "code",
      "source": [
        "final_non_outliers_data[final_non_outliers_data['production_countries'] == '[]'].shape"
      ],
      "metadata": {
        "id": "QbBQD6pNdZ-6"
      },
      "execution_count": null,
      "outputs": []
    },
    {
      "cell_type": "code",
      "source": [
        "final_non_outliers_data['genres'] = final_non_outliers_data['genres'].replace({'[]' : 'Unknown'})"
      ],
      "metadata": {
        "id": "b3g0BmfodZsy"
      },
      "execution_count": null,
      "outputs": []
    },
    {
      "cell_type": "code",
      "source": [
        "final_non_outliers_data[final_non_outliers_data['genres'] == '[]'].shape"
      ],
      "metadata": {
        "id": "PrnvgJAzbdCj"
      },
      "execution_count": null,
      "outputs": []
    },
    {
      "cell_type": "code",
      "source": [
        "final_non_outliers_data['genres'][12]"
      ],
      "metadata": {
        "id": "sCUHtYL0ifmN"
      },
      "execution_count": null,
      "outputs": []
    },
    {
      "cell_type": "code",
      "source": [
        "import ast\n",
        "\n",
        "def convert_to_list(x):\n",
        "    if isinstance(x, str):  # if it's a string like \"['crime', 'thriller']\"\n",
        "        try:\n",
        "            return ast.literal_eval(x)  # convert to list\n",
        "        except:\n",
        "            return None  # if conversion fails, return None\n",
        "    return x  # if already list or something else\n",
        "\n",
        "final_non_outliers_data['genres'] = final_non_outliers_data['genres'].apply(convert_to_list)"
      ],
      "metadata": {
        "id": "zsa3x6Tuq2na"
      },
      "execution_count": null,
      "outputs": []
    },
    {
      "cell_type": "code",
      "source": [
        "final_non_outliers_data['genres'] = final_non_outliers_data['genres'].apply(lambda x: x[0] if isinstance(x, list) and len(x) > 0 else None)"
      ],
      "metadata": {
        "id": "SiVhvw0AifaD"
      },
      "execution_count": null,
      "outputs": []
    },
    {
      "cell_type": "code",
      "source": [
        "final_non_outliers_data.head()"
      ],
      "metadata": {
        "id": "EHe5WVlsbc1P"
      },
      "execution_count": null,
      "outputs": []
    },
    {
      "cell_type": "code",
      "source": [
        "(final_non_outliers_data.isnull().mean() * 100).round(2)\n",
        "# genres has somne missing values = 1.68"
      ],
      "metadata": {
        "id": "rq2EZ2I-kRra"
      },
      "execution_count": null,
      "outputs": []
    },
    {
      "cell_type": "code",
      "source": [
        "final_non_outliers_data[final_non_outliers_data['genres'].isnull()].head()"
      ],
      "metadata": {
        "id": "cDmxXF_Fj16w"
      },
      "execution_count": null,
      "outputs": []
    },
    {
      "cell_type": "code",
      "source": [
        "final_non_outliers_data[final_non_outliers_data['genres'].isnull()].shape   # rows = 130 are with none values, of columns = 16"
      ],
      "metadata": {
        "id": "deWrrDmYjQgb"
      },
      "execution_count": null,
      "outputs": []
    },
    {
      "cell_type": "code",
      "source": [
        "final_non_outliers_data['genres'] = final_non_outliers_data['genres'].apply(lambda x: 'Unknown' if x is None else x)    # filled the values of genres wheere where is None with 'Unknown'"
      ],
      "metadata": {
        "id": "FurDsDyejQSK"
      },
      "execution_count": null,
      "outputs": []
    },
    {
      "cell_type": "code",
      "source": [
        "(final_non_outliers_data.isnull().mean() * 100).round(2)"
      ],
      "metadata": {
        "id": "ySaHmhjflm7m"
      },
      "execution_count": null,
      "outputs": []
    },
    {
      "cell_type": "code",
      "source": [
        "final_non_outliers_data['production_countries'][30]"
      ],
      "metadata": {
        "id": "J6ba4RYSl2hn"
      },
      "execution_count": null,
      "outputs": []
    },
    {
      "cell_type": "code",
      "source": [
        "import ast\n",
        "\n",
        "def get_first_country(x):\n",
        "    # 1) Missing values\n",
        "    if pd.isna(x):\n",
        "        return 'Unknown'\n",
        "    # 2) If it's already a list\n",
        "    if isinstance(x, list):\n",
        "        return x[0] if len(x) > 0 else 'Unknown'\n",
        "    # 3) If it's a string\n",
        "    if isinstance(x, str):\n",
        "        s = x.strip()\n",
        "        # common meaningless values\n",
        "        if s.lower() in ('none', 'nan', 'unknown', \"[]\", \"\"):\n",
        "            return 'Unknown'\n",
        "        # try safe eval: \"['GB', 'CA']\" -> list\n",
        "        try:\n",
        "            val = ast.literal_eval(s)\n",
        "            if isinstance(val, list):\n",
        "                return val[0] if len(val) > 0 else 'Unknown'\n",
        "            # sometimes literal_eval returns a single string\n",
        "            if isinstance(val, str) and val.strip():\n",
        "                return val.strip()\n",
        "        except Exception:\n",
        "            # fallback: remove brackets/quotes and split by comma\n",
        "            s2 = s.strip('[]').replace(\"'\", \"\").replace('\"', '').strip()\n",
        "            parts = [p.strip() for p in s2.split(',') if p.strip()]\n",
        "            return parts[0] if parts else 'Unknown'\n",
        "    # any other unexpected type\n",
        "    return 'Unknown'"
      ],
      "metadata": {
        "id": "e2flfBJFDIAp"
      },
      "execution_count": null,
      "outputs": []
    },
    {
      "cell_type": "code",
      "source": [
        "# apply to create a new column (safer than overwriting)\n",
        "final_non_outliers_data['production_countries'] = final_non_outliers_data['production_countries'].apply(get_first_country)"
      ],
      "metadata": {
        "id": "eCGG486mn8CH"
      },
      "execution_count": null,
      "outputs": []
    },
    {
      "cell_type": "code",
      "source": [
        "final_non_outliers_data['production_countries'][30]"
      ],
      "metadata": {
        "id": "Sl4P6YcOl2QW"
      },
      "execution_count": null,
      "outputs": []
    },
    {
      "cell_type": "code",
      "source": [
        "final_non_outliers_data.head()"
      ],
      "metadata": {
        "id": "QVw-bVGzl197"
      },
      "execution_count": null,
      "outputs": []
    },
    {
      "cell_type": "code",
      "source": [
        "(final_non_outliers_data == 'Unknown').sum()"
      ],
      "metadata": {
        "id": "qA7yPu7nodjU"
      },
      "execution_count": null,
      "outputs": []
    },
    {
      "cell_type": "code",
      "source": [
        "(final_non_outliers_data == 'Unknown').mean().round(2) * 100      # checking the unknown values of the columns"
      ],
      "metadata": {
        "id": "JXz7vvSklmsr"
      },
      "execution_count": null,
      "outputs": []
    },
    {
      "cell_type": "code",
      "source": [
        "final_non_outliers_data.head()"
      ],
      "metadata": {
        "id": "shjkDf4ZrMrw"
      },
      "execution_count": null,
      "outputs": []
    },
    {
      "cell_type": "code",
      "source": [
        "final_non_outliers_data.to_csv('Amazon Insights.csv', index=False)    #saving the file"
      ],
      "metadata": {
        "id": "R017x3NK2Aac"
      },
      "execution_count": null,
      "outputs": []
    },
    {
      "cell_type": "markdown",
      "source": [
        "### What all manipulations have you done and insights you found?"
      ],
      "metadata": {
        "id": "MSa1f5Uengrz"
      }
    },
    {
      "cell_type": "markdown",
      "source": [
        "1. Data Loading & Basic Checks : For Titles(Prinmary Data) and Credits(Secondary Data )\n",
        "\n",
        "\n",
        "* Loaded the Both datasets using pandas.read_csv().\n",
        "\n",
        "* Verified the shape → 9871 rows × 15 columns.  ( Primnary Data)\n",
        "\n",
        "* Verified the shape → 124235 rows × 5 columns.   ( Secondary Data)\n",
        "\n",
        "* Checked for duplicates and missing values.\n",
        "\n",
        "* Confirmed that data types were appropriate (numeric columns as float/int, others as object).\n",
        "\n",
        "\n",
        "----\n",
        "\n",
        "\n",
        "2.  Column Cleaning and Standardization/ Adding the Columns :\n",
        "\n",
        "* Renamed the Columns Where Required, Created the Columms , Droped the Columns Accordingly\n",
        "\n",
        "----\n",
        "3. Handling Missing By  “Unknown”\n",
        "----\n",
        "\n",
        "4. Handling Missing Values By 'Median'\n",
        "\n",
        "----\n",
        "\n",
        "5. Merging the Dsta by Left Join : (pd.merge.titles, credits, on = 'id', how = 'left')\n",
        "\n",
        "---\n",
        "6. Used pd.normalize method for neat and clean data for the colums genre and production countries\n",
        "\n",
        "**Insights**\n",
        "\n",
        "* Movies dominate Amazon Prime’s catalog — roughly 70–75% of total titles.\n",
        "\n",
        "* Most frequent genres: Drama, Comedy, and Thriller.\n",
        "\n",
        "* Highest-rated genres (avg IMDb ≥ 7.5): Documentaries, Music, war.\n",
        "\n",
        "* Content library grows sharply between 2010–2020.\n",
        "\n",
        "* Majority of content is produced in the United States (US).\n",
        "\n",
        "* Growing share from India, UK, and Canada — highlighting Amazon’s localization push."
      ],
      "metadata": {
        "id": "LbyXE7I1olp8"
      }
    },
    {
      "cell_type": "markdown",
      "source": [
        "## ***4. Data Vizualization, Storytelling & Experimenting with charts : Understand the relationships between variables***"
      ],
      "metadata": {
        "id": "GF8Ens_Soomf"
      }
    },
    {
      "cell_type": "markdown",
      "source": [
        "#### Chart - 1 : Top  Genres"
      ],
      "metadata": {
        "id": "0wOQAZs5pc--"
      }
    },
    {
      "cell_type": "code",
      "source": [
        "# 0. Setup — imports and basic helpers\n",
        "import ast\n",
        "import pandas as pd\n",
        "import numpy as np\n",
        "import matplotlib.pyplot as plt\n",
        "import seaborn as sns\n",
        "from collections import Counter\n",
        "\n",
        "%matplotlib inline\n",
        "sns.set(style='whitegrid', rc={'figure.figsize':(12,6)})\n",
        "\n",
        "# helper to parse list-like text to Python lists (safe)\n",
        "def parse_list_cell(x):\n",
        "    if pd.isna(x): return []\n",
        "    if isinstance(x, list): return x\n",
        "    if isinstance(x, str):\n",
        "        try:\n",
        "            v = ast.literal_eval(x)\n",
        "            if isinstance(v, (list,tuple)): return list(v)\n",
        "            return [v]\n",
        "        except:\n",
        "            # fallback: naive split\n",
        "            s = x.strip()\n",
        "            if s.startswith('[') and s.endswith(']'): s = s[1:-1]\n",
        "            parts = [p.strip().strip(\"'\\\"\") for p in s.split(',') if p.strip()]\n",
        "            return parts\n",
        "    return []\n",
        "\n",
        "# load the merged cleaned dataset\n",
        "df = pd.read_csv('Amazon Insights.csv', low_memory=False)  # low_memory = False --> \"Load the whole file, then decide datatypes for each column.\"\n",
        "\n",
        "# parse genres & production_countries to lists (if not already)\n",
        "if 'genres' in df.columns: df['genres_list'] = df['genres'].apply(parse_list_cell)\n",
        "else: df['genres_list'] = [[] for _ in range(len(df))]\n",
        "if 'production_countries' in df.columns: df['countries_list'] = df['production_countries'].apply(parse_list_cell)\n",
        "else: df['countries_list'] = [[] for _ in range(len(df))]\n",
        "\n",
        "# create a first_country column (0th index)\n",
        "df['first_country'] = df['countries_list'].apply(lambda x: x[0] if len(x)>0 else 'Unknown')\n",
        "\n",
        "# ensure numeric types for common numeric columns\n",
        "for col in ['imdb_score','tmdb_score','imdb_votes','tmdb_popularity','runtime','release_year','seasons']:\n",
        "    if col in df.columns:\n",
        "        df[col] = pd.to_numeric(df[col], errors='coerce')"
      ],
      "metadata": {
        "id": "7v_ESjsspbW7"
      },
      "execution_count": null,
      "outputs": []
    },
    {
      "cell_type": "code",
      "source": [
        "# Chart - 1 visualization code\n",
        "# Calculate genre counts\n",
        "genre_count = df['genres'].value_counts().head(10)\n",
        "\n",
        "ax = sns.barplot(\n",
        "    x=genre_count.values,\n",
        "    y=genre_count.index,\n",
        "    hue=genre_count.index,\n",
        "    dodge=False,\n",
        "    legend=False,\n",
        "    palette=\"coolwarm\"\n",
        ")\n",
        "ax.set(\n",
        "    title=\"Top 10 Most Common Genres on Amazon Prime\",\n",
        "    xlabel=\"Number of Titles\",\n",
        "    ylabel=\"Genre\"\n",
        ")\n",
        "plt.show()\n",
        "\n",
        "# Everything same up to plt.show()\n",
        "plt.show()\n",
        "\n",
        "# Print after the plot (executes after the figure is closed)\n",
        "print(\"\\nTop genres :\")\n",
        "print(genre_count)"
      ],
      "metadata": {
        "id": "G-qcGLViIMBT"
      },
      "execution_count": null,
      "outputs": []
    },
    {
      "cell_type": "markdown",
      "source": [
        "##### 1. Why did you pick the specific chart?"
      ],
      "metadata": {
        "id": "K5QZ13OEpz2H"
      }
    },
    {
      "cell_type": "markdown",
      "source": [
        "* A horizontal bar chart clearly shows which genres dominate, ordered from most to least frequent."
      ],
      "metadata": {
        "id": "XESiWehPqBRc"
      }
    },
    {
      "cell_type": "markdown",
      "source": [
        "##### 2. What is/are the insights found from the chart?"
      ],
      "metadata": {
        "id": "lQ7QKXXCp7Bj"
      }
    },
    {
      "cell_type": "markdown",
      "source": [
        "* Certain genres like Drama, Comedy, and Thriller tend to dominate streaming platforms.\n",
        "\n",
        "* Indicates content preference trends across viewers."
      ],
      "metadata": {
        "id": "C_j1G7yiqdRP"
      }
    },
    {
      "cell_type": "markdown",
      "source": [
        "##### 3. Will the gained insights help creating a positive business impact?\n",
        "Are there any insights that lead to negative growth? Justify with specific reason."
      ],
      "metadata": {
        "id": "448CDAPjqfQr"
      }
    },
    {
      "cell_type": "markdown",
      "source": [
        "**Business Impact**\n",
        "\n",
        "* Content Acquisition: The data highlights genres with high existing volume (drama, comedy). Amazon Prime could leverage this to acquire more content in these popular areas, catering to existing demand and potentially increasing subscriber satisfaction and retention.\n",
        "\n",
        "* Targeted Marketing: The insights can guide marketing campaigns. Promotions can focus on the extensive drama library to attract a broad audience or target niche markets (e.g., sci-fi fans) if data suggests high engagement within that smaller segment.\n",
        "\n",
        "* Strategic Gaps: The low number of sci-fi titles (174) could be viewed as a market gap. If market research indicates high demand for sci-fi, Amazon Prime could invest heavily in this genre to capture an underserved audience, leading to positive growth in that specific segment."
      ],
      "metadata": {
        "id": "3cspy4FjqxJW"
      }
    },
    {
      "cell_type": "markdown",
      "source": [
        "#### Chart - 2:  Movies Vs Shows"
      ],
      "metadata": {
        "id": "Gf2hImnBga6j"
      }
    },
    {
      "cell_type": "code",
      "source": [
        "# Chart - 2 visualization code\n",
        "\n",
        "type_counts = df['type'].value_counts().sort_values(ascending=False)\n",
        "plt.figure(figsize=(6,4))\n",
        "type_counts.plot(kind='bar')\n",
        "plt.title('Count: Movies vs Shows (descending)')\n",
        "plt.ylabel('Count')\n",
        "plt.show()\n",
        "\n",
        "# numeric output in descending order\n",
        "print(type_counts)"
      ],
      "metadata": {
        "id": "g9qeVpalga6k"
      },
      "execution_count": null,
      "outputs": []
    },
    {
      "cell_type": "markdown",
      "source": [
        "##### 1. Why did you pick the specific chart?"
      ],
      "metadata": {
        "id": "5di27atFga6k"
      }
    },
    {
      "cell_type": "markdown",
      "source": [
        "* A bar chart was picked to visually compare the counts of two distinct categorical variables (movies and shows)"
      ],
      "metadata": {
        "id": "wy1agZdQga6k"
      }
    },
    {
      "cell_type": "markdown",
      "source": [
        "##### 2. What is/are the insights found from the chart?"
      ],
      "metadata": {
        "id": "sqFIMFUxga6k"
      }
    },
    {
      "cell_type": "markdown",
      "source": [
        "* The primary insight is that the dataset contains significantly more movies than shows."
      ],
      "metadata": {
        "id": "gsrXToKRga6k"
      }
    },
    {
      "cell_type": "markdown",
      "source": [
        "##### 3. Will the gained insights help creating a positive business impact?\n",
        "Are there any insights that lead to negative growth? Justify with specific reason."
      ],
      "metadata": {
        "id": "Ia2PN5sFga6k"
      }
    },
    {
      "cell_type": "markdown",
      "source": [
        "* Tailor Marketing: Direct marketing efforts primarily towards movie audiences, as this is where the existing strength lies\n",
        "\n",
        "* Content Acquisition: Focus on acquiring more movie titles to cater to the dominant user preference\n",
        "\n",
        "* Resource Allocation: Allocate more resources (e.g., budget, promotional staff) to the movie segment, which likely generates more revenue or engagement"
      ],
      "metadata": {
        "id": "wUECny_Cga6k"
      }
    },
    {
      "cell_type": "markdown",
      "source": [
        "#### Chart - 3 : Top Countries Producing the Content"
      ],
      "metadata": {
        "id": "KSlN3yHqYklG"
      }
    },
    {
      "cell_type": "code",
      "source": [
        "# Chart - 3 visualization code\n",
        "\n",
        "country_count = df['production_countries'].value_counts().head(10)\n",
        "\n",
        "plt.figure(figsize=(10, 5))\n",
        "sns.barplot(\n",
        "    x=country_count.values,\n",
        "    y=country_count.index,\n",
        "    hue=country_count.index,  # add hue to suppress the warning\n",
        "    dodge=False,\n",
        "    legend=False,\n",
        "    palette=\"mako\"\n",
        ")\n",
        "plt.title(\"Top 10 Countries Producing Content on Amazon Prime\")\n",
        "plt.xlabel(\"Number of Titles\")\n",
        "plt.ylabel(\"Country\")\n",
        "plt.show()\n",
        "\n",
        "# Print after the plot (executes after the figure is closed)\n",
        "print(\"\\nTop genres (descending):\")\n",
        "print(country_count)\n"
      ],
      "metadata": {
        "id": "uG38Y7ZSR5nV"
      },
      "execution_count": null,
      "outputs": []
    },
    {
      "cell_type": "markdown",
      "source": [
        "##### 1. Why did you pick the specific chart?"
      ],
      "metadata": {
        "id": "t6dVpIINYklI"
      }
    },
    {
      "cell_type": "markdown",
      "source": [
        "* The chart was picked because a horizontal bar chart is an effective way to compare the number of titles produced by different countries and visually represent the ranking and disparities in production volume"
      ],
      "metadata": {
        "id": "5aaW0BYyYklI"
      }
    },
    {
      "cell_type": "markdown",
      "source": [
        "##### 2. What is/are the insights found from the chart?"
      ],
      "metadata": {
        "id": "ijmpgYnKYklI"
      }
    },
    {
      "cell_type": "markdown",
      "source": [
        "* The primary insight is the overwhelming dominance of the United States (US) in content production for Amazon Prime, with 4135 titles, which is significantly more than any other country\n",
        "\n",
        "* India (IN) and the United Kingdom (GB) are the next largest producers, but with less than 700 titles each, a massive drop from the US volume.\n",
        "\n",
        "* Most other listed countries (CA, AU, FR, CN, DE) produce a very small number of titles, all under 350"
      ],
      "metadata": {
        "id": "PSx9atu2YklI"
      }
    },
    {
      "cell_type": "markdown",
      "source": [
        "##### 3. Will the gained insights help creating a positive business impact?\n",
        "Are there any insights that lead to negative growth? Justify with specific reason."
      ],
      "metadata": {
        "id": "-JiQyfWJYklI"
      }
    },
    {
      "cell_type": "markdown",
      "source": [
        "**Business Impact**\n",
        "\n",
        "* Expansion in International Markets: Recognizing the low volume from most non-US countries suggests an opportunity to invest in local content in these regions to attract and retain local subscribers, potentially leading to significant growth in international markets.\n",
        "\n",
        "* Data Improvement: The large \"Unknown\" category highlights a need for better data management and labeling. Understanding the origin of this content could reveal hidden market opportunities or data quality issues that need addressing."
      ],
      "metadata": {
        "id": "BcBbebzrYklV"
      }
    },
    {
      "cell_type": "markdown",
      "source": [
        "#### Chart - 4 : Content per release year (time series) and years ranked"
      ],
      "metadata": {
        "id": "PIIx-8_IphqN"
      }
    },
    {
      "cell_type": "code",
      "source": [
        "# Chart - 4 visualization code\n",
        "\n",
        "# Titles per year\n",
        "titles_per_year = df['release_year'].value_counts().sort_index(ascending=False)\n",
        "\n",
        "plt.figure(figsize=(14,6))\n",
        "sns.lineplot(x=titles_per_year.index, y=titles_per_year.values, marker='o')\n",
        "plt.title(\"Trend of Content Releases Over Time (Descending by Year)\")\n",
        "plt.xlabel(\"Release Year\")\n",
        "plt.ylabel(\"Number of Titles\")\n",
        "plt.show()\n",
        "print(titles_per_year.head(22))"
      ],
      "metadata": {
        "id": "vQWuXHMMzVov"
      },
      "execution_count": null,
      "outputs": []
    },
    {
      "cell_type": "markdown",
      "source": [
        "##### 1. Why did you pick the specific chart?"
      ],
      "metadata": {
        "id": "t27r6nlMphqO"
      }
    },
    {
      "cell_type": "markdown",
      "source": [
        "* The line chart was likely chosen because it effectively visualizes the trend and growth rate of content releases over a long period (1920-2022)."
      ],
      "metadata": {
        "id": "iv6ro40sphqO"
      }
    },
    {
      "cell_type": "markdown",
      "source": [
        "##### 2. What is/are the insight(s) found from the chart?"
      ],
      "metadata": {
        "id": "r2jJGEOYphqO"
      }
    },
    {
      "cell_type": "markdown",
      "source": [
        "* Historical Stability: From 1920 to approximately 2000, the number of annual releases remained relatively low and stable, generally below 150 titles per year\n",
        "\n",
        "* Exponential Growth: A sharp, continuous increase in content releases is observed from the early 2000s onwards.\n",
        "\n",
        "* Peak Release Years: The years 2019 and 2021 show the highest number of releases, with 640 and 645 titles respectively.\n",
        "\n",
        "* Recent Dip: There is a notable drop in releases in 2022 (61 titles) compared to the preceding years."
      ],
      "metadata": {
        "id": "Po6ZPi4hphqO"
      }
    },
    {
      "cell_type": "markdown",
      "source": [
        "##### 3. Will the gained insights help creating a positive business impact?\n",
        "Are there any insights that lead to negative growth? Justify with specific reason."
      ],
      "metadata": {
        "id": "b0JNsNcRphqO"
      }
    },
    {
      "cell_type": "markdown",
      "source": [
        "Business Impact :\n",
        "\n",
        "* Market Saturation & Competition: The exponential growth indicates a highly saturated and competitive market. Businesses can use this insight to focus on niche markets, unique content, or high-quality production to stand out, rather than simply increasing volume.\n",
        "\n",
        "* Targeted Production: The data highlights specific peak years. Businesses can analyze market conditions during those times to understand successful strategies or identify gaps in years with slightly lower releases.\n",
        "\n",
        "* Resource Planning: The overall upward trend justifies increased investment in content creation infrastructure, marketing, and distribution channels to meet the ongoing market demand and competition."
      ],
      "metadata": {
        "id": "xvSq8iUTphqO"
      }
    },
    {
      "cell_type": "markdown",
      "source": [
        "#### Chart - 5 : Top Rated Genres By Average IMDB Score"
      ],
      "metadata": {
        "id": "4Of9eVA-YrdM"
      }
    },
    {
      "cell_type": "code",
      "source": [
        "# Chart - 5 visualization code\n",
        "\n",
        "# Average IMDb score by genre\n",
        "\n",
        "# Explode the genres list so each genre is counted individually\n",
        "expl = df.explode('genres_list')\n",
        "\n",
        "# Group by exploded genre, calculate mean IMDb score and count titles\n",
        "genre_stats = expl.dropna(subset=['imdb_score']).groupby('genres_list').agg(\n",
        "    imdb_mean=('imdb_score', 'mean'),\n",
        "    count=('title', 'count')\n",
        ")\n",
        "\n",
        "# Filter genres with at least 30 titles, sort by descending average IMDb score\n",
        "genre_stats_filtered = genre_stats[genre_stats['count'] >= 30].sort_values('imdb_mean', ascending=False)\n",
        "\n",
        "# Prepare data for plotting\n",
        "top_genres = genre_stats_filtered.head(10)\n",
        "sorted_top_genres = top_genres['imdb_mean'].sort_values(ascending=True)  # For horizontal bar chart (ascending for better visualization)\n",
        "\n",
        "# Generate color palette using seaborn (matching number of bars)\n",
        "palette = sns.color_palette(\"viridis\", n_colors=len(sorted_top_genres))\n",
        "\n",
        "# Plot horizontal bar chart with colors from palette\n",
        "plt.figure(figsize=(10, 6))\n",
        "bars = plt.barh(\n",
        "    sorted_top_genres.index,\n",
        "    sorted_top_genres.values,\n",
        "    color=palette\n",
        ")\n",
        "\n",
        "plt.title('Average IMDb Score by Genre (>=30 titles) — top descending')\n",
        "plt.xlabel('Avg IMDb Score')\n",
        "plt.ylabel('Genre')\n",
        "plt.tight_layout()\n",
        "plt.show()\n",
        "\n",
        "print(top_genres)"
      ],
      "metadata": {
        "id": "JJXllqCD9CxE"
      },
      "execution_count": null,
      "outputs": []
    },
    {
      "cell_type": "markdown",
      "source": [
        "##### 1. Why did you pick the specific chart?"
      ],
      "metadata": {
        "id": "iky9q4vBYrdO"
      }
    },
    {
      "cell_type": "markdown",
      "source": [
        "* A horizontal bar chart was chosen because it effectively compares the average IMDb scores across different genres and makes the ranking clear."
      ],
      "metadata": {
        "id": "aJRCwT6DYrdO"
      }
    },
    {
      "cell_type": "markdown",
      "source": [
        "##### 2. What is/are the insights found from the chart?"
      ],
      "metadata": {
        "id": "F6T5p64dYrdO"
      }
    },
    {
      "cell_type": "markdown",
      "source": [
        "* Top Performers: Genres like documentation, music, war, and history have the highest average IMDb scores, all above 6.5. This suggests audiences generally rate films in these specific, often factual or niche, categories higher than others\n",
        "\n",
        "* \"Unknown\" Genre: A significant number of titles (130) fall into an \"Unknown\" genre with an average score around 6.18, suggesting potential data classification issues that might need addressing."
      ],
      "metadata": {
        "id": "Xx8WAJvtYrdO"
      }
    },
    {
      "cell_type": "markdown",
      "source": [
        "##### 3. Will the gained insights help creating a positive business impact\n",
        "\n",
        "Are there any insights that lead to negative growth? Justify with specific reason."
      ],
      "metadata": {
        "id": "y-Ehk30pYrdP"
      }
    },
    {
      "cell_type": "markdown",
      "source": [
        "Business Impact :\n",
        "\n",
        "* Content Strategy: A production company could use these insights to focus investment on higher-rated genres (e.g., documentaries or war films) to potentially achieve higher critical acclaim and audience scores, which can lead to awards, better distribution deals, or a positive brand image.\n",
        "\n",
        "* Genre Specialization: Identifying strong performance in niche genres could lead to specialization, catering to a dedicated audience base."
      ],
      "metadata": {
        "id": "jLNxxz7MYrdP"
      }
    },
    {
      "cell_type": "markdown",
      "source": [
        "#### Chart - 6:  Top Rated  Genres By Avg Runtime"
      ],
      "metadata": {
        "id": "ddZAYToTYUVo"
      }
    },
    {
      "cell_type": "code",
      "source": [
        "# Chart - 6 visualization code\n",
        "\n",
        "avg_runtime = df.groupby('genres')['runtime'].mean().sort_values(ascending=False).head(10)\n",
        "\n",
        "plt.figure(figsize=(10, 5))\n",
        "sns.barplot(\n",
        "    x=avg_runtime.values,\n",
        "    y=avg_runtime.index,\n",
        "    hue=avg_runtime.index,  # add hue to suppress the warning\n",
        "    dodge=False,\n",
        "    legend=False,           # hide legend (not needed here)\n",
        "    palette=\"cubehelix\"\n",
        ")\n",
        "plt.title(\"Top 10 Genres by Average Runtime\")\n",
        "plt.xlabel(\"Average Runtime (minutes)\")\n",
        "plt.ylabel(\"Genre\")\n",
        "plt.show()\n",
        "\n",
        "# Print the avg\n",
        "print(\"\\nTop Genres with Avg Runtime (descending):\")\n",
        "print(avg_runtime)"
      ],
      "metadata": {
        "id": "Y6SKCOrBYtRM"
      },
      "execution_count": null,
      "outputs": []
    },
    {
      "cell_type": "markdown",
      "source": [
        "##### 1. Why did you pick the specific chart?"
      ],
      "metadata": {
        "id": "Ofi6wrH0YUVs"
      }
    },
    {
      "cell_type": "markdown",
      "source": [
        "* The horizontal bar chart was likely chosen because it effectively compares the average runtimes across different, distinct movie genres and presents the data in a descending order, making it easy to identify the longest and shortest average runtimes at a glance."
      ],
      "metadata": {
        "id": "c9yMqf1YYUVs"
      }
    },
    {
      "cell_type": "markdown",
      "source": [
        "##### 2. What is/are the insights found from the chart?"
      ],
      "metadata": {
        "id": "SioocF_aYUVs"
      }
    },
    {
      "cell_type": "markdown",
      "source": [
        "* Genre Runtimes: Romance films have the longest average runtime, approximately 98.4 minutes, while horror films have the shortest average runtime, approximately 88.1 minutes.\n",
        "\n",
        "* Runtime Variation: There is a relatively small range in average runtimes across the top 10 genres, with only about a 10-minute difference between the longest and shortest averages.\n",
        "\n",
        "* Genre Groupings: Genres like romance, European, thriller, and drama tend to have slightly longer runtimes compared to action, fantasy, family, music, crime, and horror films."
      ],
      "metadata": {
        "id": "gvich4biYUVs"
      }
    },
    {
      "cell_type": "markdown",
      "source": [
        "##### 3. Will the gained insights help creating a positive business impact?\n",
        "Are there any insights that lead to negative growth? Justify with specific reason."
      ],
      "metadata": {
        "id": "axDjlAJgYUVs"
      }
    },
    {
      "cell_type": "markdown",
      "source": [
        "Business Impact :\n",
        "\n",
        "* Content Strategy: Studios can use this data to understand audience expectations for runtime within specific genres. For example, knowing that romance films average nearly 100 minutes suggests that audiences expect a more developed narrative\n",
        "\n",
        "* Scheduling & Programming: Cinema programmers and streaming services can optimize their schedules. Shorter films (like horror) allow for more screenings per day, potentially increasing ticket sales or viewer turnover.\n",
        "\n",
        "* Marketing: The data can inform marketing messages, perhaps highlighting a longer runtime for a drama to imply depth, or a shorter runtime for a horror film to emphasize fast-paced action."
      ],
      "metadata": {
        "id": "y_R5G3G7YUVt"
      }
    },
    {
      "cell_type": "markdown",
      "source": [
        "#### Chart - 7 :  IMDb Score vs TMDb Score (Correlation)"
      ],
      "metadata": {
        "id": "BZR9WyysphqO"
      }
    },
    {
      "cell_type": "code",
      "source": [
        "# Chart - 7 visualization code\n",
        "\n",
        "plt.figure(figsize=(7,5))\n",
        "sns.scatterplot(x='imdb_score', y='tmdb_score', data=df, alpha=0.6)\n",
        "plt.title(\"IMDb Score vs TMDb Score (Descending Correlation Trend)\")\n",
        "plt.xlabel(\"IMDb Score\")\n",
        "plt.ylabel(\"TMDb Score\")\n",
        "plt.show()"
      ],
      "metadata": {
        "id": "TdPTWpAVphqO"
      },
      "execution_count": null,
      "outputs": []
    },
    {
      "cell_type": "markdown",
      "source": [
        "##### 1. Why did you pick the specific chart?"
      ],
      "metadata": {
        "id": "jj7wYXLtphqO"
      }
    },
    {
      "cell_type": "markdown",
      "source": [
        "* A scatter plot is suitable for this purpose because it effectively displays the relationship and correlation between two continuous numerical variables (IMDb Score and TMDb Score)."
      ],
      "metadata": {
        "id": "Ob8u6rCTphqO"
      }
    },
    {
      "cell_type": "markdown",
      "source": [
        "##### 2. What is/are the insights found from the chart?"
      ],
      "metadata": {
        "id": "eZrbJ2SmphqO"
      }
    },
    {
      "cell_type": "markdown",
      "source": [
        "* Positive Correlation: Generally, movies with higher IMDb scores also have higher TMDb scores, and vice versa. This indicates that both platforms tend to agree on the relative quality of content.\n",
        "\n",
        "* Score Distribution: Both platforms seem to have a concentration of scores in the middle range (around 6 to 8), with fewer films receiving very low (below 3) or very high (above 9) scores."
      ],
      "metadata": {
        "id": "mZtgC_hjphqO"
      }
    },
    {
      "cell_type": "markdown",
      "source": [
        "##### 3. Will the gained insights help creating a positive business impact?\n",
        "Are there any insights that lead to negative growth? Justify with specific reason."
      ],
      "metadata": {
        "id": "rFu4xreNphqO"
      }
    },
    {
      "cell_type": "markdown",
      "source": [
        "* Content Acquisition: The general agreement between the two scores confirms that a business can use either metric as a reliable indicator of general audience reception when deciding which content to acquire or recommend.\n",
        "\n",
        "* Marketing Strategy: Films that score high on both platforms are likely universally popular and can be marketed broadly. Films with a significant difference in scores (outliers) might appeal to different audience niches, allowing for targeted marketing campaigns to specific user bases.\n",
        "\n",
        "* Platform Trust: The overall positive correlation suggests that both platforms are reasonably reliable, which helps a business build trust with its own users if it aggregates or uses these scores."
      ],
      "metadata": {
        "id": "ey_0qi68phqO"
      }
    },
    {
      "cell_type": "markdown",
      "source": [
        "#### Chart - 8: Most Active Directors"
      ],
      "metadata": {
        "id": "0e5_drBQcym1"
      }
    },
    {
      "cell_type": "code",
      "source": [
        "# Chart - 8 visualization code\n",
        "\n",
        "# Calculate director counts\n",
        "director_count = df[df['role']=='DIRECTOR']['name'].value_counts().head(10)\n",
        "\n",
        "plt.figure(figsize=(10, 5))\n",
        "sns.barplot(\n",
        "    x=director_count.values,\n",
        "    y=director_count.index,\n",
        "    hue=director_count.index,  # add hue to satisfy new API\n",
        "    dodge=False,\n",
        "    legend=False,\n",
        "    palette=\"crest\"            # keep your chosen color palette\n",
        ")\n",
        "plt.title(\"Top 10 Most Active Directors (Descending Order)\")\n",
        "plt.xlabel(\"Number of Titles Directed\")\n",
        "plt.ylabel(\"Director\")\n",
        "plt.show()\n",
        "\n",
        "print(director_count)"
      ],
      "metadata": {
        "id": "nEvXSEVPI_x_"
      },
      "execution_count": null,
      "outputs": []
    },
    {
      "cell_type": "markdown",
      "source": [
        "##### **1. Why did you pick the specific chart?**"
      ],
      "metadata": {
        "id": "buKYRFcgcym3"
      }
    },
    {
      "cell_type": "markdown",
      "source": [
        "A Horizontal Bar Chart Clearly Shows which Directer Is Most Active"
      ],
      "metadata": {
        "id": "71pZpz4fcym3"
      }
    },
    {
      "cell_type": "markdown",
      "source": [
        "##### **2. What is/are the insights found from the chart?**"
      ],
      "metadata": {
        "id": "uawUMehicym3"
      }
    },
    {
      "cell_type": "markdown",
      "source": [
        "Identifies directors contributing most to Amazon's catalog\n",
        "\n",
        "Top 3 Most Active Directors :\n",
        "1. Josheph Kane\n",
        "\n",
        "2. Sam Newfield\n",
        "\n",
        "3. Jay Chapman"
      ],
      "metadata": {
        "id": "pcnNLCz2cym3"
      }
    },
    {
      "cell_type": "markdown",
      "source": [
        "##### **3. Will the gained insights help creating a positive business impact?**\n",
        "Are there any insights that lead to negative growth? Justify with specific reason."
      ],
      "metadata": {
        "id": "P7WiESBVcym3"
      }
    },
    {
      "cell_type": "markdown",
      "source": [
        "Useful for partnerships or future collaborations"
      ],
      "metadata": {
        "id": "1Rq3-Wapcym3"
      }
    },
    {
      "cell_type": "markdown",
      "source": [
        "#### Chart - 9: Top Age Certifications"
      ],
      "metadata": {
        "id": "tj2AU8eTi7GX"
      }
    },
    {
      "cell_type": "code",
      "source": [
        "# Chart - 8 visualization code\n",
        "\n",
        "age_count = df['age_certification'].value_counts().head(10)\n",
        "\n",
        "plt.figure(figsize=(8, 4))\n",
        "sns.barplot(\n",
        "    x=age_count.values,\n",
        "    y=age_count.index,\n",
        "    hue=age_count.index,       # link palette to hue\n",
        "    dodge=False,\n",
        "    legend=False,              # hides redundant legend\n",
        "    palette=\"flare\"            # keep your chosen color scheme\n",
        ")\n",
        "plt.title(\"Content Distribution by Age Certification\")\n",
        "plt.xlabel(\"Number of Titles\")\n",
        "plt.ylabel(\"Age Certification\")\n",
        "plt.show()\n",
        "\n",
        "# print in nums\n",
        "print(age_count)"
      ],
      "metadata": {
        "id": "NhziwCJ6jd-i"
      },
      "execution_count": null,
      "outputs": []
    },
    {
      "cell_type": "markdown",
      "source": [
        "##### 1. Why did you pick the specific chart?"
      ],
      "metadata": {
        "id": "Ba3s_ys4i7Ga"
      }
    },
    {
      "cell_type": "markdown",
      "source": [
        "A Horizontal Bar Chart Clearly Shows About The Distribution by Age Certification"
      ],
      "metadata": {
        "id": "fGSJIy54i7Ga"
      }
    },
    {
      "cell_type": "markdown",
      "source": [
        "##### **2. What is/are the insights found from the chart?**"
      ],
      "metadata": {
        "id": "lAttal0yi7Ga"
      }
    },
    {
      "cell_type": "markdown",
      "source": [
        "There Are Many Shows/Movies Where the Age Certifications Are Missing"
      ],
      "metadata": {
        "id": "Z771XLTri7Gb"
      }
    },
    {
      "cell_type": "markdown",
      "source": [
        "##### **3. Will the gained insights help creating a positive business impact?**\n",
        "Are there any insights that lead to negative growth? Justify with specific reason."
      ],
      "metadata": {
        "id": "X7TKQ09Pi7Gb"
      }
    },
    {
      "cell_type": "markdown",
      "source": [
        " It Can Lead to Financial and Legal Consequences, Loss Of Audience, And Significant Damage To The Platform's Reputation"
      ],
      "metadata": {
        "id": "GolYlLAMi7Gb"
      }
    },
    {
      "cell_type": "markdown",
      "source": [
        "#### Chart - 10 : Top titles by IMDb (descending) using vote threshold"
      ],
      "metadata": {
        "id": "x-EpHcCOp1ci"
      }
    },
    {
      "cell_type": "code",
      "source": [
        "# Top titles by IMDb (descending) using vote threshold\n",
        "# Choose a vote threshold to ensure reliability (e.g., >=1000 votes)\n",
        "min_votes = 1000\n",
        "top_imdb = df[df['imdb_votes'].notna() & (df['imdb_votes'] >= min_votes)].sort_values(['imdb_score','imdb_votes'], ascending=[False, False])\n",
        "# print top 30\n",
        "display_cols = ['title','type','release_year','imdb_score','imdb_votes','first_country']\n",
        "print(\"Top Titles by IMDb (votes >= {}).\".format(min_votes))\n",
        "print(top_imdb[display_cols].head(30).to_string(index=False))"
      ],
      "metadata": {
        "id": "QZHnhCeUOEqB"
      },
      "execution_count": null,
      "outputs": []
    },
    {
      "cell_type": "markdown",
      "source": [
        "##### 1. What is/are the insight(s) found from the chart?"
      ],
      "metadata": {
        "id": "2sD5BLwIQtf4"
      }
    },
    {
      "cell_type": "markdown",
      "source": [
        "The prominence of specific countries like India and the US, and the consistent high performance of documentaries and stand-up specials.\n",
        "\n",
        "* Geographic Diversity and Dominance: While US and Indian titles are frequent, a range of countries are represented (AU, CN, GB, IL, IN, SU, Unknown), indicating a global audience for quality content.\n",
        "\n",
        "* Genre Performance: Documentaries (\"The Test\", \"NOVA\", \"Nazi Concentration Camps\") and stand-up comedy specials (George Carlin, Bill Hicks, Zakir Khan) consistently achieve high IMDb scores.\n",
        "\n",
        "* Timeless Appeal: Titles span several decades, from 1945 to 2022, suggesting that quality content can maintain high ratings over long periods (\"NOVA\" started in 1974, \"Time Team\" in 1994).\n",
        "\n",
        "* High Engagement: All listed titles have at least 1000 votes, with some exceeding 14,000, indicating significant audience engagement with these specific titles."
      ],
      "metadata": {
        "id": "BS3S_WahbiCS"
      }
    },
    {
      "cell_type": "markdown",
      "source": [
        "##### 2. Will the gained insights help creating a positive business impact?\n",
        "Are there any insights that lead to negative growth? Justify with specific reason."
      ],
      "metadata": {
        "id": "bPdXs7V1biCR"
      }
    },
    {
      "cell_type": "markdown",
      "source": [
        "Business Impact :\n",
        "\n",
        "* A business could leverage the insights to invest in genres that consistently perform well, such as documentaries or stand-up comedy, which appear to have a dedicated audience willing to rate them highly.\n",
        "\n",
        "* Targeted Market Expansion: Recognizing the success of content from various countries (e.g., India, China) can guide efforts to localize content or acquire popular international titles for a global audience."
      ],
      "metadata": {
        "id": "p25Jr9mvPFjG"
      }
    },
    {
      "cell_type": "markdown",
      "source": [
        "#### Chart - 11 : Top titles by TMDB popularity (descending)"
      ],
      "metadata": {
        "id": "n3dbpmDWp1ck"
      }
    },
    {
      "cell_type": "code",
      "source": [
        "# Chart -  visualization code\n",
        "\n",
        "# Sort by tmdb_popularity if present\n",
        "if 'tmdb_popularity' in df.columns:\n",
        "    top_tmdb = df.dropna(subset=['tmdb_popularity']).sort_values('tmdb_popularity', ascending=False)\n",
        "    print(\"Top Titles by TMDB Popularity (descending):\")\n",
        "    print(top_tmdb[['title','type','release_year','tmdb_popularity','tmdb_score']].head(30).to_string(index=False))\n",
        "else:\n",
        "    print(\"tmdb_popularity column not found.\")"
      ],
      "metadata": {
        "id": "bwevp1tKp1ck"
      },
      "execution_count": null,
      "outputs": []
    },
    {
      "cell_type": "markdown",
      "source": [
        "##### 1. What is/are the insight(s) found from the chart?"
      ],
      "metadata": {
        "id": "ZWILFDl5p1ck"
      }
    },
    {
      "cell_type": "markdown",
      "source": [
        "* The primary insight is that all top popular titles in this specific dataset have a perfect TMDB score of 10.0.\n",
        "\n",
        "* The list includes both MOVIE and SHOW types, with release years spanning from 1937 to 2021, indicating that age and format do not prevent a title from being both popular and perfectly scored within this specific dataset's context."
      ],
      "metadata": {
        "id": "x-lUsV2mp1ck"
      }
    },
    {
      "cell_type": "markdown",
      "source": [
        "##### 2. Will the gained insights help creating a positive business impact?\n",
        "Are there any insights that lead to negative growth? Justify with specific reason."
      ],
      "metadata": {
        "id": "M7G43BXep1ck"
      }
    },
    {
      "cell_type": "markdown",
      "source": [
        "Business Impact :\n",
        "\n",
        "* The list provides a selection of titles that are both popular and have a perfect score. A business could use this list to consider licensing these specific titles, assuming the scores are accurate and reflect genuine audience sentiment, potentially increasing platform engagement and customer satisfaction"
      ],
      "metadata": {
        "id": "5wwDJXsLp1cl"
      }
    },
    {
      "cell_type": "markdown",
      "source": [
        "#### Chart - 12 Top actors by number of appearances (descending)"
      ],
      "metadata": {
        "id": "Ag9LCva-p1cl"
      }
    },
    {
      "cell_type": "code",
      "source": [
        "# Visulaization Code\n",
        "\n",
        "if 'role' in df.columns and 'name' in df.columns:\n",
        "    top_actors = df[df['role']=='ACTOR']['name'].value_counts().sort_values(ascending=False)\n",
        "    top_20_actors = top_actors.head(20).sort_values(ascending=True)  # ascending for horizontal bar chart\n",
        "\n",
        "    plt.figure(figsize=(12,8))\n",
        "\n",
        "    # Use seaborn color palette for bars\n",
        "    palette = sns.color_palette(\"magma\", n_colors=top_20_actors.shape[0])\n",
        "\n",
        "    bars = plt.barh(top_20_actors.index, top_20_actors.values, color=palette)\n",
        "\n",
        "    plt.title('Top 20 Actors by Appearances (descending)', fontsize=16, fontweight='bold')\n",
        "    plt.xlabel('Number of Appearances', fontsize=14)\n",
        "    plt.ylabel('Actor Names', fontsize=14)\n",
        "    plt.grid(axis='x', linestyle='--', alpha=0.7)\n",
        "\n",
        "    # Add labels on bars\n",
        "    for bar in bars:\n",
        "        width = bar.get_width()\n",
        "        plt.text(width + 0.5, bar.get_y() + bar.get_height()/2, f'{int(width)}', ha='left', va='center', fontsize=11)\n",
        "\n",
        "    plt.tight_layout()\n",
        "    plt.show()\n",
        "    print(top_actors.head(20))\n",
        "else:\n",
        "    print(\"Columns 'role' or 'name' not found in dataset.\")"
      ],
      "metadata": {
        "id": "uIpJSqWFJuac"
      },
      "execution_count": null,
      "outputs": []
    },
    {
      "cell_type": "markdown",
      "source": [
        "##### 1. Why did you pick the specific chart?"
      ],
      "metadata": {
        "id": "E6MkPsBcp1cl"
      }
    },
    {
      "cell_type": "markdown",
      "source": [
        "* A horizontal bar chart was likely chosen because it is effective for comparing the frequency of a categorical variable (actor appearances) when the category labels (actor names) are long."
      ],
      "metadata": {
        "id": "V22bRsFWp1cl"
      }
    },
    {
      "cell_type": "markdown",
      "source": [
        "##### 2. What is/are the insight(s) found from the chart?"
      ],
      "metadata": {
        "id": "2cELzS2fp1cl"
      }
    },
    {
      "cell_type": "markdown",
      "source": [
        "* Top Actors: Bear Grylls, Ayano Omoto, Gallagher, and Rick Stein have the highest number of appearances, each with 3 appearances."
      ],
      "metadata": {
        "id": "ozQPc2_Ip1cl"
      }
    },
    {
      "cell_type": "markdown",
      "source": [
        "##### 3. Will the gained insights help creating a positive business impact?\n",
        "Are there any insights that lead to negative growth? Justify with specific reason."
      ],
      "metadata": {
        "id": "3MPXvC8up1cl"
      }
    },
    {
      "cell_type": "markdown",
      "source": [
        "Business Impact :\n",
        "\n",
        "* Content Strategy: The insights suggest that the top actors (Bear Grylls, Ayano Omoto, Gallagher, Rick Stein) are likely popular or frequently used. A business could leverage this by featuring these actors in more content or marketing campaigns to capitalize on their established presence and potential audience appeal."
      ],
      "metadata": {
        "id": "DW4_bGpfphqN"
      }
    },
    {
      "cell_type": "markdown",
      "source": [
        "#### Chart 13 - IMDb score distribution (histogram)"
      ],
      "metadata": {
        "id": "q29F0dvdveiT"
      }
    },
    {
      "cell_type": "code",
      "source": [
        "# visulaization code\n",
        "\n",
        "plt.figure(figsize=(8,4))\n",
        "df['imdb_score'].dropna().hist(bins=25)\n",
        "plt.title('IMDb Score Distribution')\n",
        "plt.xlabel('IMDb Score')\n",
        "plt.ylabel('Count')\n",
        "plt.show()"
      ],
      "metadata": {
        "id": "o58-TEIhveiU"
      },
      "execution_count": null,
      "outputs": []
    },
    {
      "cell_type": "markdown",
      "source": [
        "##### 1. Why did you pick the specific chart?"
      ],
      "metadata": {
        "id": "EXh0U9oCveiU"
      }
    },
    {
      "cell_type": "markdown",
      "source": [
        "* A histogram was chosen because it is an effective visualization tool for displaying the frequency distribution of a continuous numerical variable, in this case, IMDb score"
      ],
      "metadata": {
        "id": "eMmPjTByveiU"
      }
    },
    {
      "cell_type": "markdown",
      "source": [
        "##### 2. What is/are the insight(s) found from the chart?"
      ],
      "metadata": {
        "id": "22aHeOlLveiV"
      }
    },
    {
      "cell_type": "markdown",
      "source": [
        "* Peak Frequency: The most frequent scores (the mode of the distribution) are found in the bin centered around 6.0-6.1, with over 1200 entries.\n",
        "\n",
        "* Score Range: The scores in this dataset range from approximately 3.0 to 9.0."
      ],
      "metadata": {
        "id": "uPQ8RGwHveiV"
      }
    },
    {
      "cell_type": "markdown",
      "source": [
        "##### 3. Will the gained insights help creating a positive business impact?\n",
        "Are there any insights that lead to negative growth? Justify with specific reason."
      ],
      "metadata": {
        "id": "8QHFrqS0VjP2"
      }
    },
    {
      "cell_type": "markdown",
      "source": [
        "Business Impact :\n",
        "\n",
        "* Content Strategy: A business (e.g., a streaming service or production house) can use this to understand audience preferences. Since most content falls in the average range, there might be an opportunity to invest in higher-quality content (scores 7.5+) to capture a premium audience or focus on producing \"average\" content efficiently for mass market appeal.\n",
        "\n",
        "* Targeted Marketing: Marketing efforts can be tailored. Movies in the 6.0-7.0 range could be marketed as \"solid, reliable entertainment,\" while those in the 8.0+ range can be highlighted for their critical acclaim.\n",
        "\n",
        "* Inventory Management: The data suggests a large volume of movies in the 5.0-7.0 range. A business can ensure its library is well-stocked with this type of content to meet average demand."
      ],
      "metadata": {
        "id": "Nm-ErQrIDYJV"
      }
    },
    {
      "cell_type": "markdown",
      "source": [
        "#### Chart 14 : Runtime Distribution"
      ],
      "metadata": {
        "id": "Fsz-yCIeQ4T3"
      }
    },
    {
      "cell_type": "code",
      "source": [
        "#  visualization code\n",
        "\n",
        "plt.figure(figsize=(8,4))\n",
        "df['runtime'].dropna().hist(bins=30)\n",
        "plt.title('Runtime Distribution (all titles)')\n",
        "plt.xlabel('Runtime (minutes)')\n",
        "plt.show()\n",
        "\n",
        "print(\"Median runtime by type:\")\n",
        "print(df.groupby('type')['runtime'].median().sort_values(ascending=False))"
      ],
      "metadata": {
        "id": "z-rGUUH9Q4T4"
      },
      "execution_count": null,
      "outputs": []
    },
    {
      "cell_type": "markdown",
      "source": [
        "##### 1. Why did you pick the specific chart?"
      ],
      "metadata": {
        "id": "TylRIzE-Q4T5"
      }
    },
    {
      "cell_type": "markdown",
      "source": [
        "* A histogram is ideal for displaying the distribution of a continuous numerical variable (runtime in minutes)\n",
        "\n",
        "* It groups runtimes into bins and shows the count (frequency) of titles within each bin"
      ],
      "metadata": {
        "id": "TmMgDdHHQ4T6"
      }
    },
    {
      "cell_type": "markdown",
      "source": [
        "##### 2. What is/are the insight(s) found from the chart?"
      ],
      "metadata": {
        "id": "weu8Kh0oQ4T6"
      }
    },
    {
      "cell_type": "markdown",
      "source": [
        "* The majority of titles have runtimes between approximately 80 and 110 minutes, with the highest frequency bin being 90-95 minutes (around 800 titles)."
      ],
      "metadata": {
        "id": "DyHk64n7Q4T7"
      }
    },
    {
      "cell_type": "markdown",
      "source": [
        "##### 3. Will the gained insights help creating a positive business impact?\n",
        "Are there any insights that lead to negative growth? Justify with specific reason."
      ],
      "metadata": {
        "id": "K9JY-zlQDgYv"
      }
    },
    {
      "cell_type": "markdown",
      "source": [
        "Business Impact :\n",
        "\n",
        "* Content Strategy: The data confirms a strong preference or market saturation in the 90-100 minute movie length and 50-minute show length. A business can use this to optimize production or acquisition of new content that aligns with these popular lengths.\n",
        "\n",
        "* Scheduling and Curation: Understanding typical runtimes allows for better scheduling of content slots, creating a seamless user experience (e.g., grouping similar-length content).\n",
        "\n",
        "* Targeted Marketing: The bimodal nature suggests the user base is segmented into those who prefer feature-length content and those who prefer shorter episodes. Marketing efforts can be tailored to these specific preferences."
      ],
      "metadata": {
        "id": "WW7j7xDBDgYw"
      }
    },
    {
      "cell_type": "markdown",
      "source": [
        "#### Chart - 15 :  Top country-genre pairs"
      ],
      "metadata": {
        "id": "ILCuubOZSshD"
      }
    },
    {
      "cell_type": "code",
      "source": [
        "#  visualization code\n",
        "pair_df = df.explode('genres_list').explode('countries_list')\n",
        "pair_counts = pair_df.groupby(['countries_list','genres_list']).size().reset_index(name='count').sort_values('count', ascending=False)\n",
        "print(\"Top country-genre pairs (descending):\")\n",
        "print(pair_counts.head(30).to_string(index=False))"
      ],
      "metadata": {
        "id": "6M5X1TacSshE"
      },
      "execution_count": null,
      "outputs": []
    },
    {
      "cell_type": "markdown",
      "source": [
        "##### 2. What is/are the insight(s) found from the chart?"
      ],
      "metadata": {
        "id": "ZTQPRpCVSshF"
      }
    },
    {
      "cell_type": "markdown",
      "source": [
        "* Dominance of US Content: The US is overwhelmingly the primary source country for content, especially in genres like drama, comedy, thriller, western, and horror. The top three country-genre pairs are all US-based.\n",
        "\n",
        "* Popular Genres: Drama and comedy are consistently the most frequent genres across multiple countries (US, IN, GB, CA, AU).\n",
        "\n",
        "* Key Markets: The United States (US), Great Britain (GB), and India (IN) are the most prominent countries in the top 30 list.\n",
        "\n",
        "* Specific Pairings: Certain countries show strong preferences for specific genres, such as India with romance and comedy, and the US with a wide variety including documentation and westerns.\n",
        "\n",
        "* \"Unknown\" Data: A significant amount of data is categorized as \"Unknown\" for both country and genre, which indicates a data quality issue in the source dataset."
      ],
      "metadata": {
        "id": "16Ij2ylISshF"
      }
    },
    {
      "cell_type": "markdown",
      "source": [
        "##### 3. Will the gained insights help creating a positive business impact?\n",
        "Are there any insights that lead to negative growth? Justify with specific reason."
      ],
      "metadata": {
        "id": "WW6e0V3nFbd0"
      }
    },
    {
      "cell_type": "markdown",
      "source": [
        "Positive Business Impact:\n",
        "\n",
        "* The data can inform content acquisition and production strategies. A streaming service, for example, could focus resources on acquiring or producing more US drama and comedy content, as the data suggests high availability or demand in these areas. It helps identify key markets and popular genres to target for specific regions, optimizing investment and potentially increasing subscriber engagement and retention.\n",
        "\n",
        "Negative Growth Insights:\n",
        "\n",
        "* The \"Unknown\" category is a significant issue.\n",
        "\n",
        "Reason: Without knowing the country or genre for these entries, the business cannot accurately target or leverage this content. This missing information leads to incomplete market understanding, potentially missed opportunities in specific regions, and inefficient resource allocation. Addressing the data quality issue (reducing \"Unknowns\") is crucial to avoid negative impacts from uninformed decisions."
      ],
      "metadata": {
        "id": "ln-dOPQ8Fcnk"
      }
    },
    {
      "cell_type": "markdown",
      "source": [
        "#### Chart - 16 : Correlation Heatmap"
      ],
      "metadata": {
        "id": "rTDHH7l9SCHb"
      }
    },
    {
      "cell_type": "code",
      "source": [
        "# Correlation Heatmap visualization code\n",
        "\n",
        "num_cols = [c for c in ['runtime','imdb_score','tmdb_score','imdb_votes','tmdb_popularity'] if c in df.columns]\n",
        "plt.figure(figsize=(8,6))\n",
        "sns.heatmap(df[num_cols].corr(), annot=True, fmt='.2f', cmap='coolwarm')\n",
        "plt.title('Correlation matrix (numeric columns)')\n",
        "plt.show()"
      ],
      "metadata": {
        "id": "fx1--e7TSCHb"
      },
      "execution_count": null,
      "outputs": []
    },
    {
      "cell_type": "markdown",
      "source": [
        "##### 1. Why did you pick the specific chart?"
      ],
      "metadata": {
        "id": "C82b-jMdSCHc"
      }
    },
    {
      "cell_type": "markdown",
      "source": [
        "* A correlation matrix heatmap was picked because it is an efficient and visually intuitive way to display the correlation coefficients between multiple numeric variables simultaneously"
      ],
      "metadata": {
        "id": "PxuM5dbGSCHc"
      }
    },
    {
      "cell_type": "markdown",
      "source": [
        "##### 2. What is/are the insight(s) found from the chart?"
      ],
      "metadata": {
        "id": "sy0kAlpVSCHc"
      }
    },
    {
      "cell_type": "markdown",
      "source": [
        "* tmdb_score and tmdb_popularity show a strong positive correlation (0.66), suggesting that higher-rated films on TMDB tend to be more popular on that platform\n",
        "\n",
        "* imdb_score and tmdb_score also have a moderate-to-strong positive correlation (0.44), indicating a general agreement between the two rating systems.\n",
        "\n",
        "* imdb_votes has a moderate positive correlation with imdb_score (0.13), tmdb_score (0.12), and tmdb_popularity (0.26), meaning films with more votes tend to have slightly higher scores and popularity"
      ],
      "metadata": {
        "id": "9zcN7X_0SCHc"
      }
    },
    {
      "cell_type": "markdown",
      "source": [
        "##### 3. Will the gained insights help creating a positive business impact?\n",
        "Are there any insights that lead to negative growth? Justify with specific reason."
      ],
      "metadata": {
        "id": "hJ2a1n9TEjK6"
      }
    },
    {
      "cell_type": "markdown",
      "source": [
        "Business Impact :\n",
        "\n",
        "* Content Strategy: The strong correlation between tmdb_score and tmdb_popularity suggests that focusing on producing or acquiring high-quality content (likely to get high scores) is a viable strategy to drive platform popularity and user engagement\n",
        "\n",
        "* Marketing: Since runtime has little correlation with popularity or scores, marketing efforts can focus on other factors like genre, cast, or ratings, rather than the length of the film.\n",
        "\n",
        "* Platform Synergy: The moderate correlation between IMDB and TMDB scores indicates that data from one platform can be a useful, though not perfect, predictor for performance on the other platform."
      ],
      "metadata": {
        "id": "_JE_Xf62EjK7"
      }
    },
    {
      "cell_type": "markdown",
      "source": [
        "#### Chart - 17 :  Pair Plot"
      ],
      "metadata": {
        "id": "fPc4y0QRbqT5"
      }
    },
    {
      "cell_type": "code",
      "source": [
        "# Pair Plot visualization code\n",
        "\n",
        "# These columns help show relationships between ratings, year, and duration\n",
        "num_cols = ['imdb_score', 'tmdb_score', 'runtime', 'release_year']\n",
        "\n",
        "# Step 4: Create the pair plot\n",
        "sns.pairplot(\n",
        "    df[num_cols],                  # Only include selected numeric columns\n",
        "    diag_kind='kde',               # Show smooth kernel density plots on diagonal\n",
        "    corner=True,                   # Only show lower triangle to avoid duplication\n",
        "    plot_kws={'alpha': 0.6}        # Make points slightly transparent\n",
        ")\n",
        "\n",
        "# Step 5: Add a title and display\n",
        "plt.suptitle(\"Pair Plot - Ratings, Runtime, and Release Year Analysis\", y=1.02)\n",
        "plt.show()"
      ],
      "metadata": {
        "id": "qFc9SKhRbqT6"
      },
      "execution_count": null,
      "outputs": []
    },
    {
      "cell_type": "markdown",
      "source": [
        "##### 1. Why did you pick the specific chart?"
      ],
      "metadata": {
        "id": "9_E6z7odbqT7"
      }
    },
    {
      "cell_type": "markdown",
      "source": [
        "* A pair plot is ideal for exploring relationships between multiple numerical variables simultaneously.\n",
        "\n",
        "* It shows both the distribution of each variable (using KDE plots on the diagonals) and the relationships/correlations between them (scatterplots off-diagonal)."
      ],
      "metadata": {
        "id": "-hU2ay4FbqT7"
      }
    },
    {
      "cell_type": "markdown",
      "source": [
        "##### 2. What is/are the insight(s) found from the chart?"
      ],
      "metadata": {
        "id": "G9W3xEYWbqT7"
      }
    },
    {
      "cell_type": "markdown",
      "source": [
        "* IMDb and TMDB scores have a positive correlation cluster: higher IMDb scores tend to associate with higher TMDB scores.\n",
        "\n",
        "* The runtime distributions show most content ranges roughly between 60-120 mins, with some peak around 90 mins.\n",
        "\n",
        "* Release years spread mostly after 1950, with a cluster especially near recent decades (~2000s onward).\n",
        "\n",
        "* No strong linear correlations are apparent between runtime and release year or scores, indicating potentially complex relationships.\n",
        "\n",
        "* Scatterplots seem fairly dense with many points, indicating large dataset size."
      ],
      "metadata": {
        "id": "TNFRkdyTbqT8"
      }
    },
    {
      "cell_type": "markdown",
      "source": [
        "##### 3. Will the gained insights help creating a positive business impact?\n",
        "Are there any insights that lead to negative growth? Justify with specific reason."
      ],
      "metadata": {
        "id": "-8LelcyHE9dE"
      }
    },
    {
      "cell_type": "markdown",
      "source": [
        "Business Imapact :\n",
        "\n",
        "* Understanding correlation between IMDb and TMDB scores helps in reliable audience rating analysis, influencing content acquisition, production, and recommendations.\n",
        "\n",
        "* Runtime insights support optimized content length decisions for viewer engagement.\n",
        "\n",
        "* Release year distribution reveals catalog age and gaps, encouraging targeted acquisition for newer or classic content."
      ],
      "metadata": {
        "id": "y8CRZhrxFPPj"
      }
    },
    {
      "cell_type": "markdown",
      "source": [
        "#### Chart - 18 :  IMDB Rating Vs Release Year"
      ],
      "metadata": {
        "id": "vHqaLDkKTb-R"
      }
    },
    {
      "cell_type": "code",
      "source": [
        "import plotly.express as px\n",
        "\n",
        "fig = px.scatter(\n",
        "    df,\n",
        "    x='release_year',\n",
        "    y='imdb_score',\n",
        "    color='genres',\n",
        "    size='tmdb_popularity',\n",
        "    hover_data=['title', 'first_country'],\n",
        "    title='Interactive IMDb Ratings vs Release Year'\n",
        ")\n",
        "fig.show()"
      ],
      "metadata": {
        "id": "oWkfY3l5Tb-W"
      },
      "execution_count": null,
      "outputs": []
    },
    {
      "cell_type": "markdown",
      "source": [
        "##### 1. Why did you pick the specific chart?"
      ],
      "metadata": {
        "id": "DkzdOnJdTb-X"
      }
    },
    {
      "cell_type": "markdown",
      "source": [
        "* The specific chart, , was likely chosen to visualize the relationship between three variables: IMDb score, release year, and movie genre."
      ],
      "metadata": {
        "id": "QF5DOoTdTb-X"
      }
    },
    {
      "cell_type": "markdown",
      "source": [
        "##### 2. What is/are the insight(s) found from the chart?"
      ],
      "metadata": {
        "id": "sSybLtc2Tb-X"
      }
    },
    {
      "cell_type": "markdown",
      "source": [
        "* Production Volume: The density of data points significantly increases from left (earlier years) to right (later years), indicating a substantial increase in the number of movies released annually.\n",
        "\n",
        "* Rating Distribution: IMDb scores for most movies tend to cluster between approximately 5 and 8 across all release years.\n",
        "\n",
        "* Genre Diversity: A wide variety of genres are represented throughout the decades, with no single genre consistently dominating the highest or lowest scores.\n",
        "\n",
        "* High Scores: While high scores (above 8) exist across the entire timeline, they appear more sporadically in recent years compared to the sheer volume of average-scoring films."
      ],
      "metadata": {
        "id": "Rb6GGFCFTb-Y"
      }
    },
    {
      "cell_type": "markdown",
      "source": [
        "##### 3. Will the gained insights help creating a positive business impact?\n",
        "Are there any insights that lead to negative growth? Justify with specific reason."
      ],
      "metadata": {
        "id": "KPinFuM-Tb-Y"
      }
    },
    {
      "cell_type": "markdown",
      "source": [
        "Business Imapact :\n",
        "\n",
        "* Market Growth: The massive increase in movie production suggests a large and growing market, offering opportunities for new content production and distribution platforms..\n",
        "\n",
        "* Genre Targeting: By identifying which genres consistently perform well or are underrepresented, businesses can tailor their production efforts to meet audience demand or fill market niches.\n",
        "\n",
        "\n",
        "* Audience Preference: Analyzing the concentration of scores can help determine the general quality expectations of the audience, guiding production quality standards."
      ],
      "metadata": {
        "id": "d-AdJKBqTb-Y"
      }
    },
    {
      "cell_type": "markdown",
      "source": [
        "## **5. Solution to Business Objective**"
      ],
      "metadata": {
        "id": "JcMwzZxoAimU"
      }
    },
    {
      "cell_type": "markdown",
      "source": [
        "#### What do you suggest the client to achieve Business Objective ?\n",
        "Explain Briefly."
      ],
      "metadata": {
        "id": "8G2x9gOozGDZ"
      }
    },
    {
      "cell_type": "markdown",
      "source": [
        "# To Achieve The Business Objective, The Analysis Uses Data-Driven Methods to:\n",
        "\n",
        " **Explore Content Composition** :\n",
        "\n",
        "* Analyze the mix of Movies vs TV Shows to understand content balance.\n",
        "\n",
        "* Examine Genre Distribution to find the most dominant and underrepresented genres.\n",
        "\n",
        "**Study Trends Over Time** :\n",
        "\n",
        "* Visualize number of releases per year to identify how Amazon Prime’s content library has grown.\n",
        "\n",
        "Observe runtime trends to see how show length evolved over the years.\n",
        "\n",
        "**Assess Quality & Popularity**\n",
        "\n",
        "* Compare IMDb scores and TMDb scores to evaluate audience satisfaction.\n",
        "\n",
        "* Highlight top-rated genres, actors, and directors, showing who and what type of content performs best.\n",
        "\n",
        "**Regional Insights**\n",
        "\n",
        "* Analyze production countries to see which regions contribute most to Prime’s content — especially focusing on dominant markets like the U.S., U.K., and India.\n",
        "\n",
        "**Deliver Actionable Insights** :\n",
        "\n",
        "* Provide summarized visuals and metrics to help content strategists choose which genres or creators to invest in.\n",
        "\n",
        "* Enable marketing teams to promote trending genres or top-rated content.\n",
        "\n",
        " * Support investors with trends in volume, quality, and audience engagement.\n",
        "\n",
        " * Expand non-U.S. production to attract diverse audiences globally.\n",
        "\n",
        " * Monitor user rating trends regularly to refine recommendation and acquisition strategies."
      ],
      "metadata": {
        "id": "pASKb0qOza21"
      }
    },
    {
      "cell_type": "markdown",
      "source": [
        "# **Conclusion**"
      ],
      "metadata": {
        "id": "gCX9965dhzqZ"
      }
    },
    {
      "cell_type": "markdown",
      "source": [
        "* Movies dominate Amazon Prime’s catalog compared to TV shows — suggesting a movie-first strategy, but TV content is steadily increasing over the years.\n",
        "\n",
        "* Drama and Comedy are the most common genres, while Thriller and Action maintain consistent viewer interest, making them strong performers in engagement and ratings.\n",
        "\n",
        "* Average IMDb scores are stable between 6.5–7.5, meaning overall user satisfaction is good but leaves room for improvement with quality content.\n",
        "\n",
        "* Recent years (2015–2020) show the largest increase in titles, indicating rapid content expansion before plateauing — aligning with Amazon’s global expansion period.\n",
        "\n",
        "* Certain actors/directors appear more frequently, suggesting Amazon has preferred collaborations. Identifying top-rated collaborators could strengthen exclusive content deals.\n",
        "\n",
        "* U.S. dominates content production, but there’s growing representation from India, U.K., and Canada, showing progress toward regional diversification."
      ],
      "metadata": {
        "id": "Fjb1IsQkh3yE"
      }
    },
    {
      "cell_type": "markdown",
      "source": [
        "### ***Hurrah! You have successfully completed your EDA Capstone Project !!!***"
      ],
      "metadata": {
        "id": "gIfDvo9L0UH2"
      }
    }
  ]
}